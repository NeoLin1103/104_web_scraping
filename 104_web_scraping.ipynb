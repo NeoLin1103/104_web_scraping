{
  "nbformat": 4,
  "nbformat_minor": 0,
  "metadata": {
    "colab": {
      "name": "104_web_scraping.ipynb",
      "provenance": [],
      "collapsed_sections": [],
      "authorship_tag": "ABX9TyO1OG8sDv+23Fs9G0hzFiM8",
      "include_colab_link": true
    },
    "kernelspec": {
      "name": "python3",
      "display_name": "Python 3"
    },
    "language_info": {
      "name": "python"
    }
  },
  "cells": [
    {
      "cell_type": "markdown",
      "metadata": {
        "id": "view-in-github",
        "colab_type": "text"
      },
      "source": [
        "<a href=\"https://colab.research.google.com/github/NeoLin1103/104_web_scraping/blob/main/104_web_scraping.ipynb\" target=\"_parent\"><img src=\"https://colab.research.google.com/assets/colab-badge.svg\" alt=\"Open In Colab\"/></a>"
      ]
    },
    {
      "cell_type": "code",
      "metadata": {
        "colab": {
          "base_uri": "https://localhost:8080/"
        },
        "id": "A4g2ygezdDpK",
        "outputId": "63c0b0ce-38b9-47c0-a04d-0f9efe660629"
      },
      "source": [
        "# install chromium, its driver, and selenium\n",
        "!apt update\n",
        "!apt install chromium-chromedriver\n",
        "!pip install selenium\n",
        "!pip install tqdm"
      ],
      "execution_count": 4,
      "outputs": [
        {
          "output_type": "stream",
          "name": "stdout",
          "text": [
            "Get:1 https://cloud.r-project.org/bin/linux/ubuntu bionic-cran40/ InRelease [3,626 B]\n",
            "Ign:2 https://developer.download.nvidia.com/compute/cuda/repos/ubuntu1804/x86_64  InRelease\n",
            "Get:3 http://security.ubuntu.com/ubuntu bionic-security InRelease [88.7 kB]\n",
            "Get:4 http://ppa.launchpad.net/c2d4u.team/c2d4u4.0+/ubuntu bionic InRelease [15.9 kB]\n",
            "Ign:5 https://developer.download.nvidia.com/compute/machine-learning/repos/ubuntu1804/x86_64  InRelease\n",
            "Get:6 https://developer.download.nvidia.com/compute/cuda/repos/ubuntu1804/x86_64  Release [696 B]\n",
            "Hit:7 https://developer.download.nvidia.com/compute/machine-learning/repos/ubuntu1804/x86_64  Release\n",
            "Get:8 https://developer.download.nvidia.com/compute/cuda/repos/ubuntu1804/x86_64  Release.gpg [836 B]\n",
            "Hit:9 http://archive.ubuntu.com/ubuntu bionic InRelease\n",
            "Get:10 https://cloud.r-project.org/bin/linux/ubuntu bionic-cran40/ Packages [69.5 kB]\n",
            "Get:11 http://archive.ubuntu.com/ubuntu bionic-updates InRelease [88.7 kB]\n",
            "Hit:12 http://ppa.launchpad.net/cran/libgit2/ubuntu bionic InRelease\n",
            "Hit:14 http://ppa.launchpad.net/deadsnakes/ppa/ubuntu bionic InRelease\n",
            "Get:15 https://developer.download.nvidia.com/compute/cuda/repos/ubuntu1804/x86_64  Packages [753 kB]\n",
            "Get:16 http://archive.ubuntu.com/ubuntu bionic-backports InRelease [74.6 kB]\n",
            "Hit:17 http://ppa.launchpad.net/graphics-drivers/ppa/ubuntu bionic InRelease\n",
            "Get:18 http://security.ubuntu.com/ubuntu bionic-security/main amd64 Packages [2,396 kB]\n",
            "Get:19 http://security.ubuntu.com/ubuntu bionic-security/restricted amd64 Packages [630 kB]\n",
            "Get:20 http://security.ubuntu.com/ubuntu bionic-security/universe amd64 Packages [1,434 kB]\n",
            "Get:21 http://ppa.launchpad.net/c2d4u.team/c2d4u4.0+/ubuntu bionic/main Sources [1,809 kB]\n",
            "Get:22 http://ppa.launchpad.net/c2d4u.team/c2d4u4.0+/ubuntu bionic/main amd64 Packages [926 kB]\n",
            "Get:23 http://archive.ubuntu.com/ubuntu bionic-updates/universe amd64 Packages [2,213 kB]\n",
            "Get:24 http://archive.ubuntu.com/ubuntu bionic-updates/main amd64 Packages [2,835 kB]\n",
            "Get:25 http://archive.ubuntu.com/ubuntu bionic-updates/restricted amd64 Packages [665 kB]\n",
            "Fetched 14.0 MB in 3s (4,043 kB/s)\n",
            "Reading package lists... Done\n",
            "Building dependency tree       \n",
            "Reading state information... Done\n",
            "68 packages can be upgraded. Run 'apt list --upgradable' to see them.\n",
            "Reading package lists... Done\n",
            "Building dependency tree       \n",
            "Reading state information... Done\n",
            "The following additional packages will be installed:\n",
            "  chromium-browser chromium-browser-l10n chromium-codecs-ffmpeg-extra\n",
            "Suggested packages:\n",
            "  webaccounts-chromium-extension unity-chromium-extension\n",
            "The following NEW packages will be installed:\n",
            "  chromium-browser chromium-browser-l10n chromium-chromedriver\n",
            "  chromium-codecs-ffmpeg-extra\n",
            "0 upgraded, 4 newly installed, 0 to remove and 68 not upgraded.\n",
            "Need to get 95.3 MB of archives.\n",
            "After this operation, 323 MB of additional disk space will be used.\n",
            "Get:1 http://archive.ubuntu.com/ubuntu bionic-updates/universe amd64 chromium-codecs-ffmpeg-extra amd64 94.0.4606.81-0ubuntu0.18.04.1 [1,135 kB]\n",
            "Get:2 http://archive.ubuntu.com/ubuntu bionic-updates/universe amd64 chromium-browser amd64 94.0.4606.81-0ubuntu0.18.04.1 [85.0 MB]\n",
            "Get:3 http://archive.ubuntu.com/ubuntu bionic-updates/universe amd64 chromium-browser-l10n all 94.0.4606.81-0ubuntu0.18.04.1 [4,164 kB]\n",
            "Get:4 http://archive.ubuntu.com/ubuntu bionic-updates/universe amd64 chromium-chromedriver amd64 94.0.4606.81-0ubuntu0.18.04.1 [4,963 kB]\n",
            "Fetched 95.3 MB in 5s (20.1 MB/s)\n",
            "Selecting previously unselected package chromium-codecs-ffmpeg-extra.\n",
            "(Reading database ... 155047 files and directories currently installed.)\n",
            "Preparing to unpack .../chromium-codecs-ffmpeg-extra_94.0.4606.81-0ubuntu0.18.04.1_amd64.deb ...\n",
            "Unpacking chromium-codecs-ffmpeg-extra (94.0.4606.81-0ubuntu0.18.04.1) ...\n",
            "Selecting previously unselected package chromium-browser.\n",
            "Preparing to unpack .../chromium-browser_94.0.4606.81-0ubuntu0.18.04.1_amd64.deb ...\n",
            "Unpacking chromium-browser (94.0.4606.81-0ubuntu0.18.04.1) ...\n",
            "Selecting previously unselected package chromium-browser-l10n.\n",
            "Preparing to unpack .../chromium-browser-l10n_94.0.4606.81-0ubuntu0.18.04.1_all.deb ...\n",
            "Unpacking chromium-browser-l10n (94.0.4606.81-0ubuntu0.18.04.1) ...\n",
            "Selecting previously unselected package chromium-chromedriver.\n",
            "Preparing to unpack .../chromium-chromedriver_94.0.4606.81-0ubuntu0.18.04.1_amd64.deb ...\n",
            "Unpacking chromium-chromedriver (94.0.4606.81-0ubuntu0.18.04.1) ...\n",
            "Setting up chromium-codecs-ffmpeg-extra (94.0.4606.81-0ubuntu0.18.04.1) ...\n",
            "Setting up chromium-browser (94.0.4606.81-0ubuntu0.18.04.1) ...\n",
            "update-alternatives: using /usr/bin/chromium-browser to provide /usr/bin/x-www-browser (x-www-browser) in auto mode\n",
            "update-alternatives: using /usr/bin/chromium-browser to provide /usr/bin/gnome-www-browser (gnome-www-browser) in auto mode\n",
            "Setting up chromium-chromedriver (94.0.4606.81-0ubuntu0.18.04.1) ...\n",
            "Setting up chromium-browser-l10n (94.0.4606.81-0ubuntu0.18.04.1) ...\n",
            "Processing triggers for man-db (2.8.3-2ubuntu0.1) ...\n",
            "Processing triggers for hicolor-icon-theme (0.17-2) ...\n",
            "Processing triggers for mime-support (3.60ubuntu1) ...\n",
            "Processing triggers for libc-bin (2.27-3ubuntu1.3) ...\n",
            "/sbin/ldconfig.real: /usr/local/lib/python3.7/dist-packages/ideep4py/lib/libmkldnn.so.0 is not a symbolic link\n",
            "\n",
            "Collecting selenium\n",
            "  Downloading selenium-4.0.0-py3-none-any.whl (954 kB)\n",
            "\u001b[K     |████████████████████████████████| 954 kB 5.0 MB/s \n",
            "\u001b[?25hCollecting urllib3[secure]~=1.26\n",
            "  Downloading urllib3-1.26.7-py2.py3-none-any.whl (138 kB)\n",
            "\u001b[K     |████████████████████████████████| 138 kB 60.1 MB/s \n",
            "\u001b[?25hCollecting trio-websocket~=0.9\n",
            "  Downloading trio_websocket-0.9.2-py3-none-any.whl (16 kB)\n",
            "Collecting trio~=0.17\n",
            "  Downloading trio-0.19.0-py3-none-any.whl (356 kB)\n",
            "\u001b[K     |████████████████████████████████| 356 kB 56.4 MB/s \n",
            "\u001b[?25hCollecting outcome\n",
            "  Downloading outcome-1.1.0-py2.py3-none-any.whl (9.7 kB)\n",
            "Requirement already satisfied: idna in /usr/local/lib/python3.7/dist-packages (from trio~=0.17->selenium) (2.10)\n",
            "Requirement already satisfied: sortedcontainers in /usr/local/lib/python3.7/dist-packages (from trio~=0.17->selenium) (2.4.0)\n",
            "Requirement already satisfied: attrs>=19.2.0 in /usr/local/lib/python3.7/dist-packages (from trio~=0.17->selenium) (21.2.0)\n",
            "Collecting sniffio\n",
            "  Downloading sniffio-1.2.0-py3-none-any.whl (10 kB)\n",
            "Collecting async-generator>=1.9\n",
            "  Downloading async_generator-1.10-py3-none-any.whl (18 kB)\n",
            "Collecting wsproto>=0.14\n",
            "  Downloading wsproto-1.0.0-py3-none-any.whl (24 kB)\n",
            "Requirement already satisfied: certifi in /usr/local/lib/python3.7/dist-packages (from urllib3[secure]~=1.26->selenium) (2021.5.30)\n",
            "Collecting cryptography>=1.3.4\n",
            "  Downloading cryptography-35.0.0-cp36-abi3-manylinux_2_24_x86_64.whl (3.5 MB)\n",
            "\u001b[K     |████████████████████████████████| 3.5 MB 27.6 MB/s \n",
            "\u001b[?25hCollecting pyOpenSSL>=0.14\n",
            "  Downloading pyOpenSSL-21.0.0-py2.py3-none-any.whl (55 kB)\n",
            "\u001b[K     |████████████████████████████████| 55 kB 3.6 MB/s \n",
            "\u001b[?25hRequirement already satisfied: cffi>=1.12 in /usr/local/lib/python3.7/dist-packages (from cryptography>=1.3.4->urllib3[secure]~=1.26->selenium) (1.14.6)\n",
            "Requirement already satisfied: pycparser in /usr/local/lib/python3.7/dist-packages (from cffi>=1.12->cryptography>=1.3.4->urllib3[secure]~=1.26->selenium) (2.20)\n",
            "Requirement already satisfied: six>=1.5.2 in /usr/local/lib/python3.7/dist-packages (from pyOpenSSL>=0.14->urllib3[secure]~=1.26->selenium) (1.15.0)\n",
            "Collecting h11<1,>=0.9.0\n",
            "  Downloading h11-0.12.0-py3-none-any.whl (54 kB)\n",
            "\u001b[K     |████████████████████████████████| 54 kB 3.4 MB/s \n",
            "\u001b[?25hInstalling collected packages: sniffio, outcome, h11, cryptography, async-generator, wsproto, urllib3, trio, pyOpenSSL, trio-websocket, selenium\n",
            "  Attempting uninstall: urllib3\n",
            "    Found existing installation: urllib3 1.24.3\n",
            "    Uninstalling urllib3-1.24.3:\n",
            "      Successfully uninstalled urllib3-1.24.3\n",
            "\u001b[31mERROR: pip's dependency resolver does not currently take into account all the packages that are installed. This behaviour is the source of the following dependency conflicts.\n",
            "requests 2.23.0 requires urllib3!=1.25.0,!=1.25.1,<1.26,>=1.21.1, but you have urllib3 1.26.7 which is incompatible.\n",
            "datascience 0.10.6 requires folium==0.2.1, but you have folium 0.8.3 which is incompatible.\u001b[0m\n",
            "Successfully installed async-generator-1.10 cryptography-35.0.0 h11-0.12.0 outcome-1.1.0 pyOpenSSL-21.0.0 selenium-4.0.0 sniffio-1.2.0 trio-0.19.0 trio-websocket-0.9.2 urllib3-1.26.7 wsproto-1.0.0\n",
            "Requirement already satisfied: tqdm in /usr/local/lib/python3.7/dist-packages (4.62.3)\n"
          ]
        }
      ]
    },
    {
      "cell_type": "code",
      "metadata": {
        "id": "sS6WRYiGdNSw"
      },
      "source": [
        "from selenium import webdriver\n",
        "# set options to be headless, ..\n",
        "options = webdriver.ChromeOptions()\n",
        "options.add_argument('--headless')\n",
        "options.add_argument('--no-sandbox')\n",
        "options.add_argument('--disable-dev-shm-usage')\n",
        "\n",
        "options.add_argument(\"start-maximized\")\n",
        "options.add_argument(\"enable-automation\")\n",
        "options.add_argument(\"--disable-infobars\")\n",
        "options.add_argument(\"--disable-browser-side-navigation\")\n",
        "options.add_argument(\"--disable-gpu\")"
      ],
      "execution_count": 5,
      "outputs": []
    },
    {
      "cell_type": "code",
      "metadata": {
        "id": "aTisWL7LdSVT",
        "colab": {
          "base_uri": "https://localhost:8080/"
        },
        "outputId": "4bd85539-30bc-4871-a489-1aa391835aa4"
      },
      "source": [
        "from bs4 import BeautifulSoup\n",
        "import pandas as pd\n",
        "import requests as rq\n",
        "import time\n",
        "from tqdm import tqdm, trange"
      ],
      "execution_count": 6,
      "outputs": [
        {
          "output_type": "stream",
          "name": "stderr",
          "text": [
            "/usr/local/lib/python3.7/dist-packages/requests/__init__.py:91: RequestsDependencyWarning: urllib3 (1.26.7) or chardet (3.0.4) doesn't match a supported version!\n",
            "  RequestsDependencyWarning)\n"
          ]
        }
      ]
    },
    {
      "cell_type": "code",
      "metadata": {
        "id": "8DoQvvM1jJDp"
      },
      "source": [
        "\"\"\"\n",
        "1. 可以嘗試使用selenium從主頁搜尋關鍵字\"數據分析\"\n",
        "2. 自動獲得總頁數資料\n",
        "3. webdriver打開子頁速度很慢，有沒有更好的方法?\n",
        "* 修正排版 (統一變數名稱)\n",
        "\"\"\""
      ],
      "execution_count": null,
      "outputs": []
    },
    {
      "cell_type": "code",
      "metadata": {
        "id": "McSW8uiTAd7w"
      },
      "source": [
        "\"\"\"\n",
        "職稱和公司名稱\n",
        "薪資\n",
        "工作內容\n",
        "擅長工具和工作技能\n",
        "其他條件\n",
        "\"\"\""
      ],
      "execution_count": null,
      "outputs": []
    },
    {
      "cell_type": "code",
      "metadata": {
        "id": "l3I9QwqHdn0P"
      },
      "source": [
        "urls = []\n",
        "\n",
        "#第一頁的前十個是廣告不能用\n",
        "url = f\"https://www.104.com.tw/jobs/search/?ro=0&kwop=7&keyword=%E6%95%B8%E6%93%9A%E5%88%86%E6%9E%90&expansionType=job&order=15&asc=0&page={1}&mode=s&jobsource=cmw_redirect\"\n",
        "request = rq.get(url)\n",
        "soup = BeautifulSoup(request.text, 'lxml') \n",
        "#主頁中的各職缺訊息\n",
        "articles = soup.find_all(\"article\")\n",
        "for j in range(10,30):\n",
        "  #獲得各職缺子頁的url\n",
        "  url = articles[j].find(\"a\", {\"class\": \"js-job-link\"})[\"href\"]\n",
        "  urls.append(url)"
      ],
      "execution_count": 7,
      "outputs": []
    },
    {
      "cell_type": "code",
      "metadata": {
        "colab": {
          "base_uri": "https://localhost:8080/"
        },
        "id": "pgB-DxGV8N3U",
        "outputId": "f96ab5cf-22cf-426c-f371-8e96be5a2f60"
      },
      "source": [
        "for i in trange(2,100):\n",
        "  #進入主頁，並進行換頁\n",
        "  url = f\"https://www.104.com.tw/jobs/search/?ro=0&kwop=7&keyword=%E6%95%B8%E6%93%9A%E5%88%86%E6%9E%90&expansionType=job&order=15&asc=0&page={i}&mode=s&jobsource=cmw_redirect\"\n",
        "  request = rq.get(url)\n",
        "  soup = BeautifulSoup(request.text, 'lxml') \n",
        "  #主頁中的各職缺訊息\n",
        "  articles = soup.find_all(\"article\")\n",
        "  for j in range(20):\n",
        "    #獲得各職缺子頁的url\n",
        "    url = articles[j].find(\"a\", {\"class\": \"js-job-link\"})[\"href\"]\n",
        "    urls.append(url)\n",
        "  time.sleep(1)"
      ],
      "execution_count": 8,
      "outputs": [
        {
          "output_type": "stream",
          "name": "stderr",
          "text": [
            "100%|██████████| 98/98 [04:28<00:00,  2.74s/it]\n"
          ]
        }
      ]
    },
    {
      "cell_type": "code",
      "metadata": {
        "colab": {
          "base_uri": "https://localhost:8080/"
        },
        "id": "mrGWFCPX9rD4",
        "outputId": "8bbec4f4-d3ef-48fb-d5e7-3a52b5328b7d"
      },
      "source": [
        "print(len(urls))"
      ],
      "execution_count": null,
      "outputs": [
        {
          "output_type": "stream",
          "name": "stdout",
          "text": [
            "180\n"
          ]
        }
      ]
    },
    {
      "cell_type": "code",
      "metadata": {
        "id": "D__caxCAee0P"
      },
      "source": [
        "jobs_scraper = {}"
      ],
      "execution_count": 9,
      "outputs": []
    },
    {
      "cell_type": "code",
      "metadata": {
        "id": "fcoADoA3efYJ"
      },
      "source": [
        "#薪資\n",
        "#確定一下為什麼一頁變成24篇 (是因為webdriver跟request的差別? (不是)) (第一頁有32篇，後面每一頁是22篇)\n",
        "#每一頁最後兩個是不需要的\n",
        "#第一頁前十個是廣告\n",
        "articles = []\n",
        "\n",
        "#第一頁的前十個是廣告不能用\n",
        "url = f\"https://www.104.com.tw/jobs/search/?ro=0&kwop=7&keyword=%E6%95%B8%E6%93%9A%E5%88%86%E6%9E%90&expansionType=job&order=15&asc=0&page={1}&mode=s&jobsource=cmw_redirect\"\n",
        "request = rq.get(url)\n",
        "soup = BeautifulSoup(request.text, 'lxml') \n",
        "#主頁中的各職缺訊息\n",
        "article = soup.find_all(\"article\")\n",
        "for j in range(10,30):\n",
        "  articles.append(article[j])"
      ],
      "execution_count": 10,
      "outputs": []
    },
    {
      "cell_type": "code",
      "metadata": {
        "colab": {
          "base_uri": "https://localhost:8080/"
        },
        "id": "XPDHZCmc828O",
        "outputId": "ed6df6ad-d898-4672-b899-2f142fcd722c"
      },
      "source": [
        "for page in trange(2,100):\n",
        "  url = f\"https://www.104.com.tw/jobs/search/?ro=0&kwop=7&keyword=%E6%95%B8%E6%93%9A%E5%88%86%E6%9E%90&expansionType=job&order=15&asc=0&page={page}&mode=s&jobsource=cmw_redirect\"\n",
        "  request = rq.get(url)\n",
        "  soup = BeautifulSoup(request.text, 'lxml') \n",
        "  article = soup.find_all(\"article\")\n",
        "  for i in range(20):\n",
        "    articles.append(article[i])\n",
        "  time.sleep(1)"
      ],
      "execution_count": 11,
      "outputs": [
        {
          "output_type": "stream",
          "name": "stderr",
          "text": [
            "100%|██████████| 98/98 [04:31<00:00,  2.77s/it]\n"
          ]
        }
      ]
    },
    {
      "cell_type": "code",
      "metadata": {
        "colab": {
          "base_uri": "https://localhost:8080/"
        },
        "id": "nvOBYCrYeo-0",
        "outputId": "25e67a07-4363-4cf0-b278-4f29a8234f0d"
      },
      "source": [
        "jobs_scraper[\"Salary\"] = []\n",
        "for i in trange(len(articles)):\n",
        "  #從主頁得到的各職缺訊息即可得到薪資資料\n",
        "  salary = articles[i].find(\"span\", {\"class\":\"b-tag--default\"})\n",
        "  jobs_scraper[\"Salary\"].append(salary.text)"
      ],
      "execution_count": 12,
      "outputs": [
        {
          "output_type": "stream",
          "name": "stderr",
          "text": [
            "100%|██████████| 1980/1980 [00:00<00:00, 6849.52it/s]\n"
          ]
        }
      ]
    },
    {
      "cell_type": "code",
      "metadata": {
        "colab": {
          "base_uri": "https://localhost:8080/"
        },
        "id": "1ttnfMOy9wC3",
        "outputId": "fcbad7b5-3f3e-444e-dda7-96fa371941df"
      },
      "source": [
        "print(len(jobs_scraper[\"Salary\"]))"
      ],
      "execution_count": 13,
      "outputs": [
        {
          "output_type": "stream",
          "name": "stdout",
          "text": [
            "1980\n"
          ]
        }
      ]
    },
    {
      "cell_type": "code",
      "metadata": {
        "colab": {
          "base_uri": "https://localhost:8080/"
        },
        "id": "gr9V8TA_er6b",
        "outputId": "2dedee16-1612-4fa9-e345-3ff267cc7cef"
      },
      "source": [
        "print(jobs_scraper[\"Salary\"][:30])"
      ],
      "execution_count": null,
      "outputs": [
        {
          "output_type": "stream",
          "name": "stdout",
          "text": [
            "['待遇面議', '月薪40,000~60,000元', '待遇面議', '待遇面議', '待遇面議', '月薪38,000元以上', '待遇面議', '月薪64,000~78,000元', '待遇面議', '待遇面議', '月薪40,000~50,000元', '待遇面議', '待遇面議', '待遇面議', '待遇面議', '月薪32,000~60,000元', '待遇面議', '待遇面議', '月薪34,000~45,000元', '待遇面議', '待遇面議', '待遇面議', '待遇面議', '月薪40,000元以上', '待遇面議', '月薪26,000~40,000元', '月薪34,000元以上', '月薪35,000~41,000元', '月薪30,000~40,000元', '月薪35,000~42,000元']\n"
          ]
        }
      ]
    },
    {
      "cell_type": "code",
      "metadata": {
        "colab": {
          "base_uri": "https://localhost:8080/"
        },
        "id": "PntICJCFe-sC",
        "outputId": "09562673-20dc-4831-c22c-aafd73200adc"
      },
      "source": [
        "#職稱和公司名稱\n",
        "#要確定不同項目的順序有對得起來 (除了薪資以外都是使用相同的網址list)\n",
        "#排除無關的搜尋結果 (已扣除廣告)\n",
        "jobs_scraper[\"Position\"] = []\n",
        "jobs_scraper[\"Company\"] = []\n",
        "for i in trange(len(urls)):\n",
        "  url = \"http:\" + urls[i]\n",
        "  request = rq.get(url)\n",
        "  soup = BeautifulSoup(request.text, 'lxml')\n",
        "  #從各職缺子頁的title得到資料\n",
        "  string_list = soup.title.text.split(\"｜\")\n",
        "  if len(string_list) > 1:\n",
        "    jobs_scraper[\"Position\"].append(string_list[0])\n",
        "    jobs_scraper[\"Company\"].append(string_list[1])\n",
        "  else:\n",
        "    jobs_scraper[\"Position\"].append(\"\")\n",
        "    jobs_scraper[\"Company\"].append(\"\")\n",
        "  time.sleep(1)"
      ],
      "execution_count": 52,
      "outputs": [
        {
          "output_type": "stream",
          "name": "stderr",
          "text": [
            "100%|██████████| 1980/1980 [1:10:32<00:00,  2.14s/it]\n"
          ]
        }
      ]
    },
    {
      "cell_type": "code",
      "metadata": {
        "colab": {
          "base_uri": "https://localhost:8080/"
        },
        "id": "-1ITkEzcpcTE",
        "outputId": "9c10cce1-56b7-4963-9f20-5a82092d2055"
      },
      "source": [
        "i = 373\n",
        "url = \"http:\" + urls[i]\n",
        "request = rq.get(url)\n",
        "soup = BeautifulSoup(request.text, 'lxml')\n",
        "print(soup.title)"
      ],
      "execution_count": 51,
      "outputs": [
        {
          "output_type": "stream",
          "name": "stdout",
          "text": [
            "<title>職缺已關閉－104 人力銀行</title>\n"
          ]
        }
      ]
    },
    {
      "cell_type": "code",
      "metadata": {
        "colab": {
          "base_uri": "https://localhost:8080/"
        },
        "id": "DMHfvhqVe_Qo",
        "outputId": "df611c1c-b3a8-4d42-f75a-0ed5a432dd25"
      },
      "source": [
        "print(jobs_scraper[\"Position\"][:30])\n",
        "print(jobs_scraper[\"Company\"][:30])"
      ],
      "execution_count": null,
      "outputs": [
        {
          "output_type": "stream",
          "name": "stdout",
          "text": [
            "['數據分析人員', '數據分析專員', '數據分析師', '數據分析人員', '數據分析師', '數據分析專案副理', 'Google Analytics 資深數據分析師', 'Data Analysis-數據分析產品經理', '資深會計暨數據分析管理師', '資訊-智慧數據分析工程師', '(內湖總公司)數據分析專案副理', '數據分析師/主管', '【台中市西屯區】 業務數據分析師', '數據分析師', '行銷數據分析師【明基BenQ雲端創新中心】', '數位行銷數據分析師', '【策略分析部】數據分析師', '數據分析顧問(B216)', 'AI數據分析工程師', 'EN10026 品質數據分析工程師']\n",
            "['(總公司)南山人壽保險股份有限公司', '(總公司)南山人壽保險股份有限公司', 'Royce Tech Ltd', '神揚保險代理人股份有限公司', '台北神策諮詢顧問有限公司', '特力集團_特力股份有限公司', '英屬開曼群島商雲數位智能行銷有限公司台灣分公司', '替您錄科技股份有限公司(TGC Taiwan, Inc.)', '春霖國際股份有限公司', '臻鼎科技股份有限公司', '特力集團＿HOLA＿HOLA CASA＿HOLA Petite＿Crate&Barrel＿特力屋股份有限公司', '華騰企管顧問有限公司', '香港商鈞陽有限公司台灣辦事處', '弈樂科技股份有限公司', '明基電通股份有限公司', '台灣松下電器股份有限公司', '聯合智網股份有限公司', '精誠資訊股份有限公司', '科智企業股份有限公司', '華碩電腦股份有限公司']\n"
          ]
        }
      ]
    },
    {
      "cell_type": "code",
      "metadata": {
        "colab": {
          "base_uri": "https://localhost:8080/"
        },
        "id": "n4zxvc_mfX7y",
        "outputId": "4d665e0a-6f0c-44e8-e3d5-510d068a4704"
      },
      "source": [
        "#其他條件\n",
        "jobs_scraper[\"Other_requirements\"] = []\n",
        "for i in trange(len(urls)):\n",
        "  url = \"http:\" + urls[i]\n",
        "  driver = webdriver.Chrome(options=options) #用webdriver才有讀到\n",
        "  driver.get(url)\n",
        "  soup = BeautifulSoup(driver.page_source, 'html.parser')\n",
        "  requirement = soup.find(\"p\",{\"class\":\"m-0 r3 w-100\"})\n",
        "  if requirement == None:\n",
        "    jobs_scraper[\"Other_requirements\"].append(\" \")\n",
        "  else:\n",
        "    jobs_scraper[\"Other_requirements\"].append(soup.find(\"p\",{\"class\":\"m-0 r3 w-100\"}).text)\n",
        "  driver.quit()"
      ],
      "execution_count": null,
      "outputs": [
        {
          "output_type": "stream",
          "name": "stderr",
          "text": [
            "100%|██████████| 180/180 [16:32<00:00,  5.51s/it]\n"
          ]
        }
      ]
    },
    {
      "cell_type": "code",
      "metadata": {
        "colab": {
          "base_uri": "https://localhost:8080/"
        },
        "id": "nGVtkMkvfinU",
        "outputId": "28c29587-9741-4855-b901-20a9c90a293d"
      },
      "source": [
        "print(jobs_scraper[\"Other_requirements\"][:30])"
      ],
      "execution_count": null,
      "outputs": [
        {
          "output_type": "stream",
          "name": "stdout",
          "text": [
            "[' 1. 具金融或電商產業相關經驗者尤佳\\n2. 具備3年以上用戶數據分析經驗\\n3. 具備良好商業邏輯能力\\n4. 熟悉BI分析軟體(如:Tableau或Power BI)尤佳\\n5. 細心、主動、邏輯能力強、態度認真負責 ', ' ●三至五年數據分析相關工作經驗，具金融保險工作經驗尤佳\\n●具備良好的邏輯思考能力、溝通能力、整合能力及表達能力\\n●熟悉SAS/Python/Access/Excel等\\n●具團隊合作精神但也能獨立完成各項專案分析 ', ' 1. 具備數據分析、資料結構高度洞察力及良好的溝通及表達、獨立分析和解決問題及簡報能力。\\n2. 具資料倉儲及統計規劃能力與經驗，熟悉SQL/Python/R/Excel等技術及商業智慧工具運用(SAS/Tableau)尤佳。 \\n\\n ', ' 1.對資料或資料結構具備高度敏感，並具備資料庫結構與擷取能力(基本需求：SQL、Google Analytics、Firebase、Excel)\\n2.熟悉大數據處理相關技術與統計之資料相關實務經驗\\n3.發掘消費者行為模式與偏好，據此建立數據資料分類，解讀分析的結果，以利行銷策略規劃、應用執行方案與行銷決策建議，分析消費者行為、社群行銷、電子商務.. 等領域\\n4.從大量資料產出資料模型、數據分析報表與分析報告、儀表板(基本需求：Google Data Studio建立Dashboards、Python)\\n ', ' 1.\\t擅溝通、細心、認真負責\\r\\n2.\\t數字邏輯佳，具數據分析相關經驗\\r\\n3.\\t具財產和人身保險業務員資格證照者尤佳\\r\\n4.\\t具有基礎程式能力及CRM分析經驗者優先錄取 ', ' 1.具有3年以上零售業電子商務以及會員數據分析相關經驗。\\n2.熟悉Google Analytics/Facebook 等網站數據分析、報表或產出報告。 ', ' 1.大學(含)以上畢業。\\n2.2年以上數據分析經驗；零售業、電商、數位產業佳。\\n3.熟悉 SQL 語法；有 R / Python 經驗佳。\\n4.熟悉 Tableau 操作或其他 BI 軟體。\\n5.熟悉資料庫運作方式及管理觀念；有 ETL 經驗佳。\\n6.具備會員分析經驗與數據報告撰寫能力，並對數據分析有熱忱。\\n7.具備自我學習新技術或新工具的能力，必要時能獨立作業。 ', ' ▍必須條件\\n\\n• 數據分析相關科系，例如：資訊工程、資訊管理、生物統計、數學、統計、經濟、金融等，以及其他相等的背景\\n• 會使用 Python 或 R 以及 SQL 或 MongoDB 資料查詢\\n• 具熱誠願意溝通，並認同數據驅動、假設驗證的思維模式\\n\\n▍加分項目\\n\\n• 對爬蟲或 API 有基本認識\\n• 大致了解 SQL Query、排程、ETL 等\\n• 曾修習 Google Data Analytics Certificate\\n• 曾修習實驗設計相關課程，包含：AB test、觀察性研究、實驗性研究、系統性回顧 ', ' 1.需具備統計知識與實務經驗，包含:分類分群、推薦、迴歸等，並具備規劃執行能力。\\n2.需具有資料庫技術的專業知識，熟悉大量資料分析SQL撰寫調效能。\\n3.具Python programming能力 (pandas, scikit-learn…)，可執行數據分析、機器學習 (regression, clustering, decision tree, network analysis…)。\\n4.具三年以上會員數據分析相關經驗或零售產業經驗與知識尤佳。 ', ' 1.專業職能需求：A.學習能力: 具備極強的學習能力、自我驅動意識 \\n                               B.數據分析能力: 具備優秀的數據分析能力\\n                               C.邏輯力: 邏輯嚴謹，能夠獨立分析和解決問題\\n                               D.溝通力: 具備優秀的溝通意識，良好的現場表達能力，能夠獨立負責和跟進項目\\n                               E.團隊合作力: 具備團隊合作能力\\n2.學經歷需求：A.1年以上相關經驗，零售相關產業優先\\n                           B.大學及以上學歷，商業、統計及資訊相關專業優先\\n\\n3.其他需求：A.熟悉使用Power BI 優先\\n                       B.熟練使用 SQL 優先\\n                       C.熟悉 UI/UX 優先\\n                       D.熟練使用 R / Python\\n                       E.特質: 好奇、靈活、開放式思考、細節、易於溝通\\n\\n*履歷可以附帶相關數據分析作品集，或Github 連結\\n ', ' 職位要求：\\n1. 熟悉Excel操作\\n2. 熟練掌握SPSS、R語言、Python建模能力尤佳。\\n3. 精通統計理論相關知識,並有數據分析實際經驗尤佳。 ', ' ●教育程度 / 建議科系： 大學畢/數學或統計相關科系\\n●相關經驗：具金融產業相關經驗1年以上\\n●具SAS或統計數據分析能力\\n●樂於與人溝通及合作 ', ' 具視覺化工具經驗者佳，如 Tableau、Power BI\\n ', ' 熟捻深度學習技術尤佳\\n\\n1. 基於3D影像之物件(物件) 或是人體行為追中、偵測、辨識演算法設計與開發。\\n2. 深度學習演算法研究與設計，熟悉深度神經網路的常用模型（CNN、RCNN、VGGNet、ResNet、GCN、GAN、GNN、YOLO等）。\\n3. 深度學習模型訓練、開發與設計。 ', ' ', ' 1.作為數據分析師或相關領域的工作經驗2年以上工作經驗，或相關領域碩士學歷。\\n2.對於AI、ML等開發運用有經驗者，加分。\\n3.有成功的GA商業營用經驗者，加分。\\n4.提供數據分析相關作品將優先面試。 ', ' ', ' 需擅長:數據統計分析/機率計算/資料庫應用 ', ' 熟捻深度學習技術尤佳\\n\\n1. 基於3D影像之物件(物件) 或是人體行為追中、偵測、辨識演算法設計與開發。\\n2. 深度學習演算法研究與設計，熟悉深度神經網路的常用模型（CNN、RCNN、VGGNet、ResNet、GCN、GAN、GNN、YOLO等）。\\n3. 深度學習模型訓練、開發與設計。 ', ' 1.\\t有使用R、Tableau、PowerBi、Google Data Studio、Google Sheet、Google Slides、SQL(DQL)使用經驗尤佳 \\r\\n2.\\tR、Java、C、C++、C#、Python、Matlab至少熟悉其中一項的使用 \\r\\n3.\\t有Data Mining、Machine Learning概念尤佳 \\r\\n4.\\t必須攜帶以下文件應試 \\r\\ni.\\t自薦信 \\r\\nii.\\t自傳 \\r\\n5.\\t攜帶以下文件應試者尤佳: \\r\\ni.\\t在學期間成績單 (大學以上) \\r\\nii.\\t大學專題、碩士論文、已發表的期刊或會議論文 \\r\\niii.\\t應試者自行準備的分析報告 (主題不拘，紙本或應試當日簡報皆可)\\r\\n ', ' - 至少2年以上 Google Analytics/Firebase 操作經驗 \\n- 可運用 Google DataStudio 建立自動化報表、串接雲端資料來源\\n- 具備 html概念，可運用網頁工具檢測、過濾、追蹤問題，會下 SQL, RegEx 指令尤佳\\n- 物聯網 /OTT平台/ EC平台相關經驗\\n- 至少1年以上數位行銷數據分析與報告經驗，且有實際應用的優化成果\\n\\n加分條件：\\n1.有 SEO相關經驗\\n2.大數據分析  ', ' （1）三年以上資料庫行銷或使用者分析等相關工作經驗、具大數據模型維運或系統開發專案尤佳；\\n（2）熟悉Excel與Powerpoint，具良好數據分析及簡報能力； \\n（3）喜好團隊合作並樂於溝通、積極主動、細心縝密、具有強烈責任心。 ', ' 1、\\t擁有統計、數學等領域大學獲以上學位。\\n2、\\t作為數據分析師或相關領域的工作經驗2年以上工作經驗，或相關領域碩士學歷。\\n3、\\t與產品經理共事以評估潛在風險的能力。 \\n4、\\t能夠利用現有工具和數據庫進行分析，並提供應用軟體相關解決方案建議。 \\n5、\\t能夠將業務需求轉換為非技術性的非專業術語。\\n6、\\t了解元數據標準。\\n7、\\t持有加密貨幣並有投資獲利的經驗，加分。\\n8、\\t待過遊戲界，做過「從頭規劃起」的完整經濟體系；加分。\\n9、\\t待過遊戲界，有接手過經濟循環設計；加分。\\n10、有五年以上的遊戲數值企劃經驗，加分。\\n ', ' 1.熟悉Python、Ｒ、SAS、SPSS等任一分析工具者\\n2.熟悉Tableau、SQL、資料庫工具等使用經驗者\\n3.有Data Mining、Machine Learning、Predictive Model經驗者尤佳\\n\\n★面試者請準備一份分析報告或相關經驗簡介\\u3000\\n(主題不拘，可附加檔案上傳，作為加分項目) ', ' 1. 工業工程、工業管理、資工或資管、機械工程、企管等相關科系碩士，或具備實務生產線經驗者。\\n2. 具初步AI模型建構能力，問題分析與自學能力。\\n3. 具備實際執行AI專案經驗。\\n4. 須具備基礎SQL語言能力，對於資料庫具實際操作經驗。\\n4. 具備計畫書撰寫、簡報製作能力。\\n6. 參與過Kaggle競賽為佳。\\n7. 外語能力依中心規定。 ', ' 1.具備投信業從業人員證照。\\n2.工作態度主動積極、邏輯清楚且溝通能力佳。\\n3.無經驗可，願意接受培訓。 ', ' 1.具資料查詢與維護語言（SQL）使用經驗尤佳\\n2.具臨床醫護經驗尤佳\\n3.具醫藥衛生、護理背景尤佳\\n4.熟悉統計分析軟體(R) ', ' 1.大學(含)以上畢業。\\n2.2年以上數據分析經驗；零售業、電商、數位產業佳。\\n3.熟悉 SQL 語法；有 R / Python 經驗佳。\\n4.熟悉 Tableau 操作或其他 BI 軟體。\\n5.熟悉資料庫運作方式及管理觀念；有 ETL 經驗佳。\\n6.具備會員分析經驗與數據報告撰寫能力，並對數據分析有熱忱。\\n7.具備自我學習新技術或新工具的能力，必要時能獨立作業。 ', ' 科系限制：企業管理學類, 社會學類, 政治學類, 公共行政學類, 數理統計學類, 資訊科學類.\\r\\n\\r\\n1. 熟悉語意分析、資料探勘之調查方法\\r\\n3. 熟悉SPSS、SAS、STATA統計軟體\\r\\n4. 有民意調查、市場調查、資料探勘經驗者，優先錄用 ', ' 1. 具兩年以上市場調查及分析相關工作經驗者\\n2. 熟悉SQL語法、商業智慧軟體，數據分析工具R或Python者佳\\n3. 需具備撰寫調查分析報告及口頭簡報能力\\n4. 多益550分以上 ']\n"
          ]
        }
      ]
    },
    {
      "cell_type": "code",
      "metadata": {
        "colab": {
          "base_uri": "https://localhost:8080/"
        },
        "id": "OY6EURkyfkTJ",
        "outputId": "71a9cf3a-50dc-482d-8336-ef135cc010cb"
      },
      "source": [
        "#擅長工具和工作技能\n",
        "skills_urls = []\n",
        "for i in trange(len(urls)):\n",
        "  url = \"http:\" + urls[i]\n",
        "  try:\n",
        "    driver = webdriver.Chrome(options=options)\n",
        "    driver.get(url)\n",
        "    soup = BeautifulSoup(driver.page_source, 'html.parser')\n",
        "    try:\n",
        "      skill = soup.find_all(\"p\", {\"class\",\"mb-0 r3\"})[0]\n",
        "      skills_urls.append(skill.find(\"a\")[\"href\"]) #從各職缺子頁再連結到擅長工具和工作技能的頁面\n",
        "    except:\n",
        "      #skill.find(\"a\") == None\n",
        "      #soup.find_all(\"p\", {\"class\",\"mb-0 r3\"}) == None\n",
        "      skills_urls.append([])\n",
        "    driver.quit()\n",
        "  except:\n",
        "    skills_urls.append([])"
      ],
      "execution_count": 14,
      "outputs": [
        {
          "output_type": "stream",
          "name": "stderr",
          "text": [
            "100%|██████████| 1980/1980 [2:51:31<00:00,  5.20s/it]\n"
          ]
        }
      ]
    },
    {
      "cell_type": "code",
      "metadata": {
        "colab": {
          "base_uri": "https://localhost:8080/"
        },
        "id": "ahKBmYl8f37b",
        "outputId": "37f938c2-94f9-420e-b44f-7e6f3e473f67"
      },
      "source": [
        "jobs_scraper[\"Skills_list\"] = []\n",
        "for i in trange(len(skills_urls)):\n",
        "  if len(skills_urls[i])==0:\n",
        "    jobs_scraper[\"Skills_list\"].append([])\n",
        "  else:\n",
        "    url = \"http:\" + skills_urls[i]\n",
        "    request = rq.get(url)\n",
        "    soup = BeautifulSoup(request.text, 'lxml')\n",
        "    #獲得擅長工具和工作技能\n",
        "    items = soup.find_all(\"a\",{\"class\",\"skillSideBar-list__item\"})\n",
        "    skills_list = []\n",
        "    for item in items:\n",
        "      skills_list.append(item[\"data-gtm-sidebar\"])\n",
        "    jobs_scraper[\"Skills_list\"].append(skills_list)"
      ],
      "execution_count": 15,
      "outputs": [
        {
          "output_type": "stream",
          "name": "stderr",
          "text": [
            "100%|██████████| 1980/1980 [1:14:16<00:00,  2.25s/it]\n"
          ]
        }
      ]
    },
    {
      "cell_type": "code",
      "metadata": {
        "colab": {
          "base_uri": "https://localhost:8080/"
        },
        "id": "tXxjK_CdkmFY",
        "outputId": "dae8ee8d-9d1f-415f-8c3c-4105f3acec61"
      },
      "source": [
        "print(len(jobs_scraper[\"Skills_list\"]))"
      ],
      "execution_count": 16,
      "outputs": [
        {
          "output_type": "stream",
          "name": "stdout",
          "text": [
            "1980\n"
          ]
        }
      ]
    },
    {
      "cell_type": "code",
      "metadata": {
        "colab": {
          "base_uri": "https://localhost:8080/"
        },
        "id": "2o16t2YlgD6_",
        "outputId": "de070d11-755e-4938-f2c5-e3f0be07e804"
      },
      "source": [
        "print(jobs_scraper[\"Skills_list\"][:30])"
      ],
      "execution_count": null,
      "outputs": [
        {
          "output_type": "stream",
          "name": "stdout",
          "text": [
            "[['工具-Python', '工具-R', '工具-MS SQL', '工具-Excel', '工具-PowerPoint', '工具-Power BI', '工具-Tableau', '技能-BI分析', '技能-數據分析', '技能-行銷策略規劃', '技能-競爭者分析', '技能-行銷活動', '技能-使用者研究', '技能-邏輯能力', '技能-分析報告撰寫', '技能-公司營運', '技能-產品開發', '技能-使用者行為', '語言-英文'], ['工具-Python', '工具-Access', '工具-Excel', '工具-Word', '工具-SAS', '工具-Oracle', '技能-整合能力', '技能-業務管理', '技能-表達能力', '技能-統計分析', '技能-專案分析', '技能-客服', '技能-金融保險', '技能-數據分析', '技能-大數據', '技能-報表製作', '技能-經營管理', '技能-客戶專案', '技能-行為分析', '技能-成本控管', '技能-商品銷售', '語言-英文', '職能-溝通能力', '職能-分析思考'], ['工具-Python', '工具-R', '工具-MS SQL', '工具-Tableau', '工具-SAS', '工具-ETL', '工具-SQL', '工具-Excel', '技能-資料結構', '技能-商業分析', '技能-預測', '技能-提案與簡報技巧', '技能-行銷推廣', '技能-統計', '技能-自動化', '技能-數據分析', '技能-模式分析', '技能-數據統計', '技能-策略分析', '技能-消費者行為', '技能-視覺化', '技能-商業智慧', '技能-數據分析報表', '語言-英文'], ['工具-MS SQL', '工具-Excel', '工具-PowerPoint', '工具-Word', '工具-Google Analytics', '工具-Firebase', '工具-Google Data Studio', '工具-Python', '工具-SQL', '技能-資料結構', '技能-跨部門溝通', '技能-營運', '技能-專案規劃與執行', '技能-社群行銷', '技能-統計', '技能-數據分析', '技能-大數據處理', '技能-消費者行為', '技能-視覺化', '技能-商業智慧', '技能-數據分析專案', '技能-行銷策略規劃', '技能-數據分析報表', '職能-溝通協調', '職能-溝通能力'], ['工具-Excel', '工具-PowerPoint', '工具-Word', '工具-中文打字20~50', '技能-需求分析', '技能-CRM分析', '技能-數據分析', '技能-商業分析', '技能-編寫'], ['工具-Google Analytics', '工具-Facebook', '技能-廣告企劃案╱文案撰寫', '技能-GA分析', '技能-網站數據分析', '技能-CRM', '技能-趨勢預測', '技能-統計', '技能-數據分析', '技能-會員資料分析', '技能-商品銷售', '技能-策略分析', '技能-數據建模', '技能-視覺化', '技能-黏著度', '語言-英文'], [], [], ['工具-Python', '工具-PostgreSQL', '工具-Pandas', '工具-Oracle', '工具-SQL', '技能-零售通路', '技能-機器學習', '技能-營運', '技能-規劃執行', '技能-會員精準行銷', '技能-程式開發', '技能-資料科學', '技能-統計', '技能-Clustering', '技能-專案分析', '技能-數據分析', '技能-行為分析', '技能-Network analysis', '技能-大數據', '技能-scikit-learn'], ['工具-Python', '工具-MS SQL', '工具-Power BI', '工具-Github', '工具-SQL', '技能-UI', '技能-UX', '技能-數據分析', '技能-統計', '技能-表達能力', '技能-教學'], [], [], ['工具-Tableau', '工具-Power BI', '技能-專案導入', '技能-數據分析', '技能-視覺化', '技能-統計分析'], ['工具-Python', '工具-神經網路', '技能-軟體工程系統開發', '技能-軟體程式設計', '技能-演算法設計', '技能-深度學習', '技能-3D影像', '技能-軟體設計', '技能-規劃執行', '技能-人工智慧', '技能-軟體架構', '技能-程式開發', '技能-演算法', '技能-CNN', '技能-影像辨識'], ['工具-Python', '工具-R', '工具-Tableau', '工具-Power BI', '工具-SPSS', '工具-Excel', '工具-R語言', '技能-數據分析', '技能-操作', '技能-統計理論', '技能-數據清洗', '技能-數據建模', '技能-趨勢預測', '語言-英文'], ['工具-Python', '工具-R', '工具-MS SQL', '工具-MySQL', '工具-PLSQL', '工具-PostgreSQL', '工具-Excel', '工具-Tableau', '工具-Google Analytics', '工具-Oracle', '技能-諮詢服務', '技能-數據分析', '技能-人工智慧', '技能-教育訓練', '技能-機器學習', '技能-數據管理', '技能-分析系統', '技能-技術文件', '語言-英文'], ['工具-Python', '工具-R', '工具-MySQL', '工具-Excel', '工具-Google Analytics', '工具-Google Tag Manager', '工具-Firebase', '工具-SAS', '工具-SQL', '技能-專案時間╱進度控管', '技能-專案規劃執行╱範圍管理', '技能-專案溝通╱整合管理', '技能-諮詢服務', '技能-數學', '技能-統計分析', '技能-數據分析', '技能-表達能力', '技能-解決客戶問題', '技能-分析系統', '語言-英文'], ['工具-Python', '工具-R', '工具-MySQL', '工具-Tableau', '技能-資料結構', '技能-資料庫應用', '技能-大數據處理', '技能-消費者行為', '技能-數據分析報表', '技能-數據統計分析', '技能-社群行銷', '技能-行銷策略規劃', '技能-統計'], ['工具-Python', '工具-神經網路', '技能-軟體工程系統開發', '技能-軟體程式設計', '技能-3D影像', '技能-人工智慧', '技能-演算法設計', '技能-影像辨識', '技能-CNN', '技能-物件偵測', '技能-深度學習', '技能-演算法', '語言-英文'], ['工具-C', '工具-C#', '工具-C++', '工具-Java', '工具-Matlab', '工具-Python', '工具-R', '工具-Excel', '工具-PowerPoint', '工具-SAS', '工具-Power BI', '工具-Tableau', '工具-SQL', '工具-Google Data Studio', '技能-需求分析', '技能-數據分析', '技能-機器學習', '技能-萃取', '技能-DQL', '技能-資料探勘', '語言-英文'], ['工具-Google Analytics', '工具-Google Tag Manager', '工具-HTML', '工具-Firebase', '工具-SQL', '技能-網站流量成效追蹤', '技能-需求分析', '技能-操作', '技能-公司營運', '技能-OTT', '技能-檢測', '技能-營運', '技能-SEO', '技能-分條', '技能-良好溝通能力', '技能-自動化', '技能-數位行銷', '技能-數據分析', '技能-物聯網', '技能-大數據分析', '技能-量化研究方法', '技能-數據分析報表', '語言-英文'], ['工具-Excel', '工具-PowerPoint', '工具-ETL', '技能-提案與簡報技巧', '技能-數據分析', '技能-資料庫行銷', '技能-商品銷售', '技能-使用者分析', '技能-系統開發', '技能-成效分析', '技能-預測', '技能-數據處理'], [], ['工具-Python', '工具-R', '工具-ANSI SQL', '工具-MS SQL', '工具-MySQL', '工具-PLSQL', '工具-PostgreSQL', '工具-Tableau', '工具-Google Analytics', '工具-Google Data Studio', '工具-Firebase', '工具-SAS', '工具-SPSS', '工具-SQL', '工具-Excel', '工具-Oracle', '技能-數據分析', '技能-調試', '技能-人工智慧', '技能-資料探勘', '技能-教育訓練', '技能-應用軟體', '技能-機器學習', '技能-大數據分析', '技能-數據倉庫', '技能-大數據', '技能-數學', '技能-統計', '語言-英文'], [], ['工具-Excel', '工具-Outlook', '工具-PowerPoint', '工具-Word', '工具-中文打字50~75', '證照-信託業業務人員信託業務專業測驗【信託法規乙科】', '證照-證券商高級業務員', '證照-投信投顧業務員', '證照-金融市場常識與職業道德', '證照-信託業業務人員信託業務專業測驗', '技能-市場調查企劃與執行', '技能-市場調查資料分析與報告撰寫', '技能-調查樣本統計分析', '技能-溝通能力佳', '技能-數據分析', '技能-業務分析', '技能-資料處理', '技能-成效追蹤'], ['工具-Excel', '工具-PowerPoint', '工具-Word', '工具-SPSS', '工具-SQL', '技能-臨床試驗', '技能-資料整理', '技能-可行性評估', '技能-護理', '技能-數據分析', '技能-影像標註', '技能-醫藥衛生', '技能-統計分析'], [], ['工具-Excel', '工具-PowerPoint', '工具-Word', '工具-SPSS', '工具-SAS', '工具-Stata', '技能-資料探勘', '技能-資訊科學', '技能-邏輯思維', '技能-語意分析', '技能-數據分析', '技能-公共行政學', '技能-市場分析', '技能-大數據分析', '技能-數理統計', '技能-統計', '技能-洞察'], ['工具-Python', '工具-R', '工具-MS SQL', '工具-JSP', '工具-SPSS', '證照-TOEIC (多益測驗)', '技能-提案與簡報技巧', '技能-市場調查資料分析與報告撰寫', '技能-統計軟體操作', '技能-調查分析', '技能-行銷經營', '技能-行銷策略規劃', '技能-行銷活動', '技能-市場分析', '技能-成效分析', '技能-商業智慧', '技能-統計', '技能-數據分析', '技能-視覺化', '語言-英文']]\n"
          ]
        }
      ]
    },
    {
      "cell_type": "code",
      "metadata": {
        "colab": {
          "base_uri": "https://localhost:8080/"
        },
        "id": "bKxu-J_dgG6V",
        "outputId": "609fe586-b15b-4ab1-edd4-0be7b375a6b8"
      },
      "source": [
        "#工作內容\n",
        "jobs_scraper[\"Job_description\"] = []\n",
        "for i in trange(len(urls)):\n",
        "  url = \"http:\" + urls[i]\n",
        "  request = rq.get(url)\n",
        "  soup = BeautifulSoup(request.text, 'lxml')\n",
        "  try:\n",
        "    jobs_scraper[\"Job_description\"].append(soup.find_all(\"meta\",{\"property\":\"og:description\"})[0][\"content\"])\n",
        "  except:\n",
        "    jobs_scraper[\"Job_description\"].append([])\n",
        "  time.sleep(1)"
      ],
      "execution_count": null,
      "outputs": [
        {
          "output_type": "stream",
          "name": "stderr",
          "text": [
            "100%|██████████| 20/20 [00:29<00:00,  1.49s/it]\n"
          ]
        }
      ]
    },
    {
      "cell_type": "code",
      "metadata": {
        "colab": {
          "base_uri": "https://localhost:8080/"
        },
        "id": "IZ9qsSCegMCA",
        "outputId": "4bb43ca1-4c98-409b-f10c-25c3162f6574"
      },
      "source": [
        "print(len(jobs_scraper[\"Job_description\"]))\n",
        "print(jobs_scraper[\"Job_description\"][:30])"
      ],
      "execution_count": null,
      "outputs": [
        {
          "output_type": "stream",
          "name": "stdout",
          "text": [
            "20\n",
            "['【工作內容】台北市信義區 - ●建立推廣分析架構並提出建議，以透過數據分析提升對AG及客戶之洞察並制定後續業務推動行動方案\\n●檢視並分析各項商品推動動態，以建立推動策略及SOP，以達業績目標\\n●執行資源整合及獎勵推廣簡報製作，以利…。薪資：月薪38,000元以上。職務類別：統計精算人員、市場調查／市場分析、統計學研究員。休假制度：週休二日。可上班日：不限。工作性質：全職。主動應徵、找工作，請上 104 人力銀行投遞履歷。', '【工作內容】台北市信義區 - 主要職務內容為運用公司客戶及業務員行為資料庫進行各項業務數據分析，協助經營管理階層掌握重要業務數據以擬定業務發展策略及各項業務提升計劃\\n●運用big data及統計分析方法建置業務員行為分析模型以協助…。薪資：待遇面議（經常性薪資達4萬元或以上）。職務類別：市場調查／市場分析、統計精算人員。休假制度：週休二日。可上班日：不限。工作性質：全職。主動應徵、找工作，請上 104 人力銀行投遞履歷。', '【工作內容】義大利 - 工作內容：\\n數據清洗、數據建模、數據分析、趨勢預測。\\n\\n職位要求：\\n1. 深度熟悉Excel操作,熟練掌握SPSS\\\\R語言\\\\Python建模能力尤佳。\\n2. 精通統計理論相關知識,並有數據分析實際經驗…。薪資：待遇面議（經常性薪資達4萬元或以上）。職務類別：軟體設計工程師、Internet程式設計師、網頁設計師。休假制度：依公司規定。可上班日：不限。工作性質：全職。主動應徵、找工作，請上 104 人力銀行投遞履歷。', '【工作內容】新北市新店區 - 1.整理編寫每週業務數據分析報告。\\n2.專案需求分析、數據分析、商業分析和數據採擷模型等。\\n3.提供業務部門數據分析報告，與業務部門合作開展業務專題分析。。薪資：待遇面議（經常性薪資達4萬元或以上）。職務類別：市場調查／市場分析、統計精算人員、財務分析／財務人員。休假制度：週休二日。可上班日：一個月內。工作性質：全職。主動應徵、找工作，請上 104 人力銀行投遞履歷。', '【工作內容】台北市中山區 - 工作職掌：\\r\\n1.以幫助客戶發現業務問題、發揮數據價值為導向，能深入理解客戶業務需求與痛點，確定客戶業務問題與目標，並給予有效的數據解決方案；\\r\\n2.從客戶業務需求場景出發，指導/協助客戶完成多維度指…。薪資：待遇面議（經常性薪資達4萬元或以上）。職務類別：電子商務技術主管、統計精算人員、系統分析師。休假制度：週休二日。可上班日：不限。工作性質：全職。主動應徵、找工作，請上 104 人力銀行投遞履歷。', '【工作內容】台北市內湖區 - 1.執行資料科學專案，將商業問題轉化為資料科學/數據分析問題\\n2.根據會員及商品大數據，分析會員及商品輪廓，以協助公司於營運、行銷等方面之效益提升，規劃並執行集團零售通路會員精準行銷。\\n3.客戶行為分…。薪資：待遇面議（經常性薪資達4萬元或以上）。職務類別：市場調查／市場分析、營運管理師／系統整合／ERP專案師、統計學研究員。休假制度：週休二日。可上班日：一個月內。工作性質：全職。主動應徵、找工作，請上 104 人力銀行投遞履歷。', '【工作內容】台北市信義區 - 【必備條件】\\n1. 熟悉Google Analytics 介面與數據指標(含EEC)，具有1年以上使用經驗。\\n2. 具備數位行銷、流量分析、數據洞察應用能力，1年以上經驗。\\n3. 具備Google A…。薪資：待遇面議（經常性薪資達4萬元或以上）。職務類別：其他資訊專業人員、軟體相關專案管理師、廣告AE業務人員。休假制度：週休二日。可上班日：不限。工作性質：全職。主動應徵、找工作，請上 104 人力銀行投遞履歷。', '【工作內容】台北市松山區 - 需求分析\\n- 跨部門合作，具備良好溝通能力，協助釐清公司營運需求，提供技術單位開發規格；\\n- 擅長利用質性與量化研究方法及分析工具得到數據洞見，提供相關觀察與策略建議。\\n\\n流量成長\\n- 熟悉流量追蹤工…。薪資：待遇面議（經常性薪資達4萬元或以上）。職務類別：市場調查／市場分析、網站行銷企劃、產品企劃主管。休假制度：週休二日。可上班日：不限。工作性質：全職。主動應徵、找工作，請上 104 人力銀行投遞履歷。', '【工作內容】台北市中山區 - 如果你喜歡在年輕, 有活力的工作環境工作, 這個職缺很適合您多看看\\n此職務屬行政管理部，會密切的與總經理(CFA)共事，是個很有挑戰也有趣的職務\\n\\n此應聘人員須能獨自處理\\n1.一般會計帳務，日常費用支…。薪資：待遇面議（經常性薪資達4萬元或以上）。職務類別：記帳／出納／一般會計、主辦會計、行政人員。休假制度：依公司規定。可上班日：一個月內。工作性質：全職。主動應徵、找工作，請上 104 人力銀行投遞履歷。', '【工作內容】桃園市大園區 - 1. 與設備供應商、工廠、資料庫工程師合作，取得設備資料，探究資料是否詳盡，是否合理\\n2. 以統計手法、視覺化、機器學習、深度學習從數據中找尋脈絡與價值\\n3. 相關前端、後端軟體開發\\n4. 協調產學合…。薪資：待遇面議（經常性薪資達4萬元或以上）。職務類別：其他資訊專業人員、軟體設計工程師。休假制度：依公司規定。可上班日：不限。工作性質：全職。主動應徵、找工作，請上 104 人力銀行投遞履歷。', '【工作內容】台北市內湖區 - 1.執行資料科學專案，將商業問題轉化為資料科學/數據分析問題\\n2.根據會員及商品大數據，分析會員及商品輪廓，以協助公司於營運、行銷等方面之效益提升，規劃並執行集團零售通路會員精準行銷。\\n3.客戶行為分…。薪資：待遇面議（經常性薪資達4萬元或以上）。職務類別：統計學研究員、市場調查／市場分析、營運管理師／系統整合／ERP專案師。休假制度：週休二日。可上班日：一個月內。工作性質：全職。主動應徵、找工作，請上 104 人力銀行投遞履歷。', '【工作內容】台中市烏日區 - 1、資料倉儲管理與數據中心建置。\\n2、根據營運與業務所需, 提供數據分析結果。\\n3、依據數據處理與分析需求，建構數據模型，視實際情況調整並優化模型與流程。\\n4、運用數據演算法及工具進行數據搜集、處理及…。薪資：待遇面議（經常性薪資達4萬元或以上）。職務類別：統計精算人員、系統分析師、營運管理師／系統整合／ERP專案師。休假制度：週休二日。可上班日：不限。工作性質：全職。主動應徵、找工作，請上 104 人力銀行投遞履歷。', '【工作內容】台中市西屯區 - 1. 蒐集追蹤相關產業數據，維持數據來源品質及穩定性。\\n2. 執行數據分析專案與任務，提供報表或簡報產出。\\n3. 利用與建立分析數據指標並發掘問題，提供各單位營運上分析觀察與建議。薪資：待遇面議（經常性薪資達4萬元或以上）。職務類別：軟體設計工程師。休假制度：依公司規定。可上班日：不限。工作性質：全職。主動應徵、找工作，請上 104 人力銀行投遞履歷。', '【工作內容】台中市西屯區 - ***應徵時請附上作品集、文案、自傳、證照等加分文件***\\r\\n1.\\t需求分析及規劃資料萃取、資料清理 \\r\\n2.\\t數據分析、資訊視覺化、說明分析結果、提出建議及後續成效評估 \\r\\n3.\\t蒐集競業資訊、報表…。薪資：月薪32,000~60,000元。職務類別：市場調查／市場分析、統計精算人員。休假制度：週休二日。可上班日：不限。工作性質：全職。主動應徵、找工作，請上 104 人力銀行投遞履歷。', '【工作內容】台北市內湖區 - 【職務說明】\\n一、數據設定 \\n1. 實作並管理全球 B2B、B2C、Zowie等數十個國家之官網 Google Analytics、Google Tag Manager設定。 \\n2. 在Google …。薪資：月薪30,000~100,000元。職務類別：軟體相關專案管理師、系統分析師、統計學研究員。休假制度：依公司規定。可上班日：不限。工作性質：全職。主動應徵、找工作，請上 104 人力銀行投遞履歷。', '【工作內容】台北市中山區 - 1.主要擔任集團企業網站會員管理、行銷族群提案企劃(包含設計軟體使用)\\n2.數位廣告規劃、數據分析與執行(提案、KPI檢視)\\n3.網站會員使用行為觀察、資料數據分析應用(GOOGLE分析等軟體使用)\\n…。薪資：月薪31,700元以上。職務類別：網站行銷企劃、行銷企劃人員、產品行銷人員。休假制度：依公司規定。可上班日：一週內。工作性質：全職。主動應徵、找工作，請上 104 人力銀行投遞履歷。', '【工作內容】台北市松山區 - 1. 挖掘數據Insight，讓數據提升價值，協助各單位靈活運用數據分析結果。\\n2. 例行性報表產出\\n3. BI-Tableau 多維度分析工具運用，能使用tableau進行分析設計。\\n4. GA36…。薪資：待遇面議（經常性薪資達4萬元或以上）。職務類別：產品管理師、其他資訊專業人員、市場調查／市場分析。休假制度：週休二日。可上班日：一個月內。工作性質：全職。主動應徵、找工作，請上 104 人力銀行投遞履歷。', '【工作內容】台北市內湖區 - 我們是Tableau、Microsoft Power Platform  & Dynamics 365與GCP BigData等產品的服務部門，從客戶的數據出發，協助客戶邁向「數位轉型」(Digita…。薪資：待遇面議（經常性薪資達4萬元或以上）。職務類別：系統分析師、顧問人員、其他資訊專業人員。休假制度：依公司規定。可上班日：不限。工作性質：全職。主動應徵、找工作，請上 104 人力銀行投遞履歷。', '【工作內容】台北市中山區 -  1.AI及數據分析演算法開發\\r\\n 2.專案分析應用規劃及執行\\r\\n 3.建立分析結果報表，並將產出整合至產品\\r\\n 4.協助將客戶端業務邏輯轉化為技術需求\\r\\n 5.探索其他可能分析機會。薪資：待遇面議（經常性薪資達4萬元或以上）。職務類別：軟體設計工程師、通訊軟體工程師、軟體相關專案管理師。休假制度：依公司規定。可上班日：不限。工作性質：全職。主動應徵、找工作，請上 104 人力銀行投遞履歷。', '【工作內容】台北市北投區 - 1. 維修數據分析與改善\\r\\n2. 專案導入與計畫執行\\r\\n3. 跨單位協調討論。薪資：月薪35,000元以上。職務類別：產品售後技術服務。休假制度：依公司規定。可上班日：一週內。工作性質：全職。主動應徵、找工作，請上 104 人力銀行投遞履歷。']\n"
          ]
        }
      ]
    },
    {
      "cell_type": "code",
      "metadata": {
        "colab": {
          "base_uri": "https://localhost:8080/",
          "height": 204
        },
        "id": "F14p6Iox-VL3",
        "outputId": "446197d8-055a-4e7a-98fc-240b05e9df14"
      },
      "source": [
        "#創造pandas dataframe\n",
        "df = pd.DataFrame(jobs_scraper)\n",
        "df.head()"
      ],
      "execution_count": 53,
      "outputs": [
        {
          "output_type": "execute_result",
          "data": {
            "text/html": [
              "<div>\n",
              "<style scoped>\n",
              "    .dataframe tbody tr th:only-of-type {\n",
              "        vertical-align: middle;\n",
              "    }\n",
              "\n",
              "    .dataframe tbody tr th {\n",
              "        vertical-align: top;\n",
              "    }\n",
              "\n",
              "    .dataframe thead th {\n",
              "        text-align: right;\n",
              "    }\n",
              "</style>\n",
              "<table border=\"1\" class=\"dataframe\">\n",
              "  <thead>\n",
              "    <tr style=\"text-align: right;\">\n",
              "      <th></th>\n",
              "      <th>Salary</th>\n",
              "      <th>Skills_list</th>\n",
              "      <th>Position</th>\n",
              "      <th>Company</th>\n",
              "    </tr>\n",
              "  </thead>\n",
              "  <tbody>\n",
              "    <tr>\n",
              "      <th>0</th>\n",
              "      <td>月薪64,000~78,000元</td>\n",
              "      <td>[]</td>\n",
              "      <td>數據分析師</td>\n",
              "      <td>星威嘉數位媒體顧問有限公司</td>\n",
              "    </tr>\n",
              "    <tr>\n",
              "      <th>1</th>\n",
              "      <td>待遇面議</td>\n",
              "      <td>[工具-Python, 工具-R, 工具-MS SQL, 工具-Excel, 工具-Powe...</td>\n",
              "      <td>數據分析師</td>\n",
              "      <td>王牌數位創新股份有限公司</td>\n",
              "    </tr>\n",
              "    <tr>\n",
              "      <th>2</th>\n",
              "      <td>月薪40,000~60,000元</td>\n",
              "      <td>[工具-Tableau, 工具-Google Analytics, 工具-Power BI,...</td>\n",
              "      <td>數據分析師</td>\n",
              "      <td>庫柏資訊軟體股份有限公司</td>\n",
              "    </tr>\n",
              "    <tr>\n",
              "      <th>3</th>\n",
              "      <td>待遇面議</td>\n",
              "      <td>[工具-Python, 工具-R, 工具-MS SQL, 工具-MySQL, 工具-PLSQ...</td>\n",
              "      <td>數據分析師</td>\n",
              "      <td>凡谷興業有限公司</td>\n",
              "    </tr>\n",
              "    <tr>\n",
              "      <th>4</th>\n",
              "      <td>待遇面議</td>\n",
              "      <td>[工具-Python, 工具-R, 工具-MySQL, 工具-Excel, 工具-Googl...</td>\n",
              "      <td>數據分析師</td>\n",
              "      <td>台北神策諮詢顧問有限公司</td>\n",
              "    </tr>\n",
              "  </tbody>\n",
              "</table>\n",
              "</div>"
            ],
            "text/plain": [
              "             Salary  ...        Company\n",
              "0  月薪64,000~78,000元  ...  星威嘉數位媒體顧問有限公司\n",
              "1              待遇面議  ...   王牌數位創新股份有限公司\n",
              "2  月薪40,000~60,000元  ...   庫柏資訊軟體股份有限公司\n",
              "3              待遇面議  ...       凡谷興業有限公司\n",
              "4              待遇面議  ...   台北神策諮詢顧問有限公司\n",
              "\n",
              "[5 rows x 4 columns]"
            ]
          },
          "metadata": {},
          "execution_count": 53
        }
      ]
    },
    {
      "cell_type": "code",
      "metadata": {
        "id": "0xhKXEZoPOs2"
      },
      "source": [
        "df.to_excel(\"jobs_scraper.xlsx\")"
      ],
      "execution_count": 54,
      "outputs": []
    },
    {
      "cell_type": "code",
      "metadata": {
        "id": "ISjBjRxlA6SD"
      },
      "source": [
        "#Data cleaning (薪資, 工具)"
      ],
      "execution_count": null,
      "outputs": []
    },
    {
      "cell_type": "markdown",
      "metadata": {
        "id": "YHHuHmQD9gBV"
      },
      "source": [
        "薪資regex"
      ]
    },
    {
      "cell_type": "code",
      "metadata": {
        "id": "b3C47AG09fOE"
      },
      "source": [
        "import re"
      ],
      "execution_count": 19,
      "outputs": []
    },
    {
      "cell_type": "code",
      "metadata": {
        "colab": {
          "base_uri": "https://localhost:8080/"
        },
        "id": "CBHCzTLUkORF",
        "outputId": "505a06de-e417-4293-f6a8-cf1af7052eb3"
      },
      "source": [
        "df.Salary.describe()"
      ],
      "execution_count": 20,
      "outputs": [
        {
          "output_type": "execute_result",
          "data": {
            "text/plain": [
              "count     1980\n",
              "unique     268\n",
              "top       待遇面議\n",
              "freq       852\n",
              "Name: Salary, dtype: object"
            ]
          },
          "metadata": {},
          "execution_count": 20
        }
      ]
    },
    {
      "cell_type": "code",
      "metadata": {
        "colab": {
          "base_uri": "https://localhost:8080/"
        },
        "id": "GG6hRl3blKhU",
        "outputId": "8e3dcbac-1392-4e4e-ded7-efd43a9fccac"
      },
      "source": [
        "df.info()"
      ],
      "execution_count": 21,
      "outputs": [
        {
          "output_type": "stream",
          "name": "stdout",
          "text": [
            "<class 'pandas.core.frame.DataFrame'>\n",
            "RangeIndex: 1980 entries, 0 to 1979\n",
            "Data columns (total 2 columns):\n",
            " #   Column       Non-Null Count  Dtype \n",
            "---  ------       --------------  ----- \n",
            " 0   Salary       1980 non-null   object\n",
            " 1   Skills_list  1980 non-null   object\n",
            "dtypes: object(2)\n",
            "memory usage: 31.1+ KB\n"
          ]
        }
      ]
    },
    {
      "cell_type": "code",
      "metadata": {
        "id": "Q26u7wqYlYiR"
      },
      "source": [
        "def payed_interval(x):\n",
        "  salary = re.compile(\"(\\w薪)\")\n",
        "  if salary.search(x) != None:\n",
        "    return salary.search(x).group()\n",
        "  else:\n",
        "    return x "
      ],
      "execution_count": 22,
      "outputs": []
    },
    {
      "cell_type": "code",
      "metadata": {
        "colab": {
          "base_uri": "https://localhost:8080/"
        },
        "id": "FV_1uq_GmLKi",
        "outputId": "87a21cc6-1942-47c8-a183-678ef50bf69a"
      },
      "source": [
        "df.Salary.apply(payed_interval).value_counts()"
      ],
      "execution_count": 23,
      "outputs": [
        {
          "output_type": "execute_result",
          "data": {
            "text/plain": [
              "月薪                   1055\n",
              "待遇面議                  852\n",
              "時薪                     41\n",
              "年薪                     22\n",
              "日薪                      3\n",
              "論件計酬0元                  2\n",
              "論件計酬300~15,000元         2\n",
              "論件計酬1,000~20,000元       2\n",
              "論件計酬2,000元以上            1\n",
              "Name: Salary, dtype: int64"
            ]
          },
          "metadata": {},
          "execution_count": 23
        }
      ]
    },
    {
      "cell_type": "code",
      "metadata": {
        "id": "IwwJwa80BQ27"
      },
      "source": [
        "#以regex抓出薪資數字\n",
        "#只計算支付月薪的薪資\n",
        "def find_salary(x):\n",
        "  if \"月薪\" in x:\n",
        "    salary = re.compile(\"(\\d{2},\\d{3})\")\n",
        "    return salary.findall(x)\n",
        "  else:\n",
        "    return 0"
      ],
      "execution_count": 24,
      "outputs": []
    },
    {
      "cell_type": "code",
      "metadata": {
        "id": "I0pCiPwUBpjp"
      },
      "source": [
        "#apply在dataframe\n",
        "df[\"Salary_extracted\"] = df.Salary.apply(find_salary)"
      ],
      "execution_count": 25,
      "outputs": []
    },
    {
      "cell_type": "code",
      "metadata": {
        "colab": {
          "base_uri": "https://localhost:8080/",
          "height": 669
        },
        "id": "X_r7UAbMB1wG",
        "outputId": "0b22e02a-7b53-403b-aefb-e3daff841f12"
      },
      "source": [
        "df.head(20)"
      ],
      "execution_count": 26,
      "outputs": [
        {
          "output_type": "execute_result",
          "data": {
            "text/html": [
              "<div>\n",
              "<style scoped>\n",
              "    .dataframe tbody tr th:only-of-type {\n",
              "        vertical-align: middle;\n",
              "    }\n",
              "\n",
              "    .dataframe tbody tr th {\n",
              "        vertical-align: top;\n",
              "    }\n",
              "\n",
              "    .dataframe thead th {\n",
              "        text-align: right;\n",
              "    }\n",
              "</style>\n",
              "<table border=\"1\" class=\"dataframe\">\n",
              "  <thead>\n",
              "    <tr style=\"text-align: right;\">\n",
              "      <th></th>\n",
              "      <th>Salary</th>\n",
              "      <th>Skills_list</th>\n",
              "      <th>Salary_extracted</th>\n",
              "    </tr>\n",
              "  </thead>\n",
              "  <tbody>\n",
              "    <tr>\n",
              "      <th>0</th>\n",
              "      <td>月薪64,000~78,000元</td>\n",
              "      <td>[]</td>\n",
              "      <td>[64,000, 78,000]</td>\n",
              "    </tr>\n",
              "    <tr>\n",
              "      <th>1</th>\n",
              "      <td>待遇面議</td>\n",
              "      <td>[工具-Python, 工具-R, 工具-MS SQL, 工具-Excel, 工具-Powe...</td>\n",
              "      <td>0</td>\n",
              "    </tr>\n",
              "    <tr>\n",
              "      <th>2</th>\n",
              "      <td>月薪40,000~60,000元</td>\n",
              "      <td>[工具-Tableau, 工具-Google Analytics, 工具-Power BI,...</td>\n",
              "      <td>[40,000, 60,000]</td>\n",
              "    </tr>\n",
              "    <tr>\n",
              "      <th>3</th>\n",
              "      <td>待遇面議</td>\n",
              "      <td>[工具-Python, 工具-R, 工具-MS SQL, 工具-MySQL, 工具-PLSQ...</td>\n",
              "      <td>0</td>\n",
              "    </tr>\n",
              "    <tr>\n",
              "      <th>4</th>\n",
              "      <td>待遇面議</td>\n",
              "      <td>[工具-Python, 工具-R, 工具-MySQL, 工具-Excel, 工具-Googl...</td>\n",
              "      <td>0</td>\n",
              "    </tr>\n",
              "    <tr>\n",
              "      <th>5</th>\n",
              "      <td>待遇面議</td>\n",
              "      <td>[工具-Python, 工具-R, 工具-Tableau, 工具-Power BI, 工具-...</td>\n",
              "      <td>0</td>\n",
              "    </tr>\n",
              "    <tr>\n",
              "      <th>6</th>\n",
              "      <td>待遇面議</td>\n",
              "      <td>[工具-Access, 工具-Excel, 工具-PowerPoint, 工具-Word, ...</td>\n",
              "      <td>0</td>\n",
              "    </tr>\n",
              "    <tr>\n",
              "      <th>7</th>\n",
              "      <td>月薪29,000~31,000元</td>\n",
              "      <td>[工具-Excel, 工具-Outlook, 工具-PowerPoint, 工具-Word,...</td>\n",
              "      <td>[29,000, 31,000]</td>\n",
              "    </tr>\n",
              "    <tr>\n",
              "      <th>8</th>\n",
              "      <td>月薪32,000~60,000元</td>\n",
              "      <td>[工具-C, 工具-C#, 工具-C++, 工具-Java, 工具-Matlab, 工具-P...</td>\n",
              "      <td>[32,000, 60,000]</td>\n",
              "    </tr>\n",
              "    <tr>\n",
              "      <th>9</th>\n",
              "      <td>月薪35,000~45,000元</td>\n",
              "      <td>[]</td>\n",
              "      <td>[35,000, 45,000]</td>\n",
              "    </tr>\n",
              "    <tr>\n",
              "      <th>10</th>\n",
              "      <td>月薪30,000~40,000元</td>\n",
              "      <td>[工具-Excel, 工具-PowerPoint, 工具-Word, 工具-中文打字50~7...</td>\n",
              "      <td>[30,000, 40,000]</td>\n",
              "    </tr>\n",
              "    <tr>\n",
              "      <th>11</th>\n",
              "      <td>月薪38,000元以上</td>\n",
              "      <td>[]</td>\n",
              "      <td>[38,000]</td>\n",
              "    </tr>\n",
              "    <tr>\n",
              "      <th>12</th>\n",
              "      <td>月薪40,000~50,000元</td>\n",
              "      <td>[工具-Google Analytics, 工具-Facebook, 技能-廣告企劃案╱文案...</td>\n",
              "      <td>[40,000, 50,000]</td>\n",
              "    </tr>\n",
              "    <tr>\n",
              "      <th>13</th>\n",
              "      <td>待遇面議</td>\n",
              "      <td>[工具-Excel, 工具-PowerPoint, 工具-Word, 工具-中文打字20~5...</td>\n",
              "      <td>0</td>\n",
              "    </tr>\n",
              "    <tr>\n",
              "      <th>14</th>\n",
              "      <td>待遇面議</td>\n",
              "      <td>[工具-Python, 工具-Access, 工具-Excel, 工具-Word, 工具-O...</td>\n",
              "      <td>0</td>\n",
              "    </tr>\n",
              "    <tr>\n",
              "      <th>15</th>\n",
              "      <td>月薪35,000元以上</td>\n",
              "      <td>[]</td>\n",
              "      <td>[35,000]</td>\n",
              "    </tr>\n",
              "    <tr>\n",
              "      <th>16</th>\n",
              "      <td>待遇面議</td>\n",
              "      <td>[工具-Python, 工具-R, 工具-MySQL, 技能-大數據, 技能-數據分析, 技...</td>\n",
              "      <td>0</td>\n",
              "    </tr>\n",
              "    <tr>\n",
              "      <th>17</th>\n",
              "      <td>待遇面議</td>\n",
              "      <td>[工具-MS SQL, 工具-Excel, 工具-PowerPoint, 工具-Word, ...</td>\n",
              "      <td>0</td>\n",
              "    </tr>\n",
              "    <tr>\n",
              "      <th>18</th>\n",
              "      <td>月薪34,000元以上</td>\n",
              "      <td>[工具-Excel, 工具-PowerPoint, 工具-Word, 工具-SPSS, 工具...</td>\n",
              "      <td>[34,000]</td>\n",
              "    </tr>\n",
              "    <tr>\n",
              "      <th>19</th>\n",
              "      <td>待遇面議</td>\n",
              "      <td>[工具-Google Analytics, 工具-Google Tag Manager, 工...</td>\n",
              "      <td>0</td>\n",
              "    </tr>\n",
              "  </tbody>\n",
              "</table>\n",
              "</div>"
            ],
            "text/plain": [
              "              Salary  ...  Salary_extracted\n",
              "0   月薪64,000~78,000元  ...  [64,000, 78,000]\n",
              "1               待遇面議  ...                 0\n",
              "2   月薪40,000~60,000元  ...  [40,000, 60,000]\n",
              "3               待遇面議  ...                 0\n",
              "4               待遇面議  ...                 0\n",
              "5               待遇面議  ...                 0\n",
              "6               待遇面議  ...                 0\n",
              "7   月薪29,000~31,000元  ...  [29,000, 31,000]\n",
              "8   月薪32,000~60,000元  ...  [32,000, 60,000]\n",
              "9   月薪35,000~45,000元  ...  [35,000, 45,000]\n",
              "10  月薪30,000~40,000元  ...  [30,000, 40,000]\n",
              "11       月薪38,000元以上  ...          [38,000]\n",
              "12  月薪40,000~50,000元  ...  [40,000, 50,000]\n",
              "13              待遇面議  ...                 0\n",
              "14              待遇面議  ...                 0\n",
              "15       月薪35,000元以上  ...          [35,000]\n",
              "16              待遇面議  ...                 0\n",
              "17              待遇面議  ...                 0\n",
              "18       月薪34,000元以上  ...          [34,000]\n",
              "19              待遇面議  ...                 0\n",
              "\n",
              "[20 rows x 3 columns]"
            ]
          },
          "metadata": {},
          "execution_count": 26
        }
      ]
    },
    {
      "cell_type": "code",
      "metadata": {
        "id": "r9KprJaL3xtp"
      },
      "source": [
        "\"\"\"\n",
        "○1. 去掉','\n",
        "○2. 將字串轉為數值\n",
        "○3. 在有空list、一個值、和兩個值的情況下，計算用兩個值的最小值和平均值計算平均值\n",
        "○4. 只計算月薪\n",
        "\"\"\""
      ],
      "execution_count": null,
      "outputs": []
    },
    {
      "cell_type": "code",
      "metadata": {
        "id": "MyJF5B7N4ViE"
      },
      "source": [
        "def avg_by_min(x):\n",
        "  #除了薪資面議的資料\n",
        "  if x != 0:\n",
        "    #兩個值的資料取第一個\n",
        "    #去掉\",\"並轉換為數值\n",
        "    return int(x[0].replace(\",\",\"\"))\n",
        "  else:\n",
        "    return 0"
      ],
      "execution_count": 27,
      "outputs": []
    },
    {
      "cell_type": "code",
      "metadata": {
        "id": "4E4UeJTV83cS"
      },
      "source": [
        "df[\"Avg_by_min\"] = df.Salary_extracted.apply(avg_by_min)"
      ],
      "execution_count": 28,
      "outputs": []
    },
    {
      "cell_type": "code",
      "metadata": {
        "colab": {
          "base_uri": "https://localhost:8080/"
        },
        "id": "_faQeHW89Fw0",
        "outputId": "55967d36-6679-4f76-c235-fab33c5dad27"
      },
      "source": [
        "#有取到值的資料筆數(確定抓到的值都來自月薪)\n",
        "len(df[df.Avg_by_min != 0])"
      ],
      "execution_count": 45,
      "outputs": [
        {
          "output_type": "execute_result",
          "data": {
            "text/plain": [
              "1051"
            ]
          },
          "metadata": {},
          "execution_count": 45
        }
      ]
    },
    {
      "cell_type": "code",
      "metadata": {
        "id": "q96XaZKQkvkF"
      },
      "source": [
        "def test_avg_by_min(x):\n",
        "  #除了薪資面議的資料\n",
        "  if x != 0:\n",
        "    #兩個值的資料取第一個\n",
        "    #去掉\",\"並轉換為數值\n",
        "    return 1\n",
        "  else:\n",
        "    return 0"
      ],
      "execution_count": 46,
      "outputs": []
    },
    {
      "cell_type": "code",
      "metadata": {
        "colab": {
          "base_uri": "https://localhost:8080/"
        },
        "id": "jgPOnOx0kzx8",
        "outputId": "fc971e69-f47a-45ba-f467-dcea4d9060f6"
      },
      "source": [
        "df.Salary_extracted.apply(test_avg_by_min).sum()\n",
        "# 有四個月薪的值抓到0"
      ],
      "execution_count": 47,
      "outputs": [
        {
          "output_type": "execute_result",
          "data": {
            "text/plain": [
              "1055"
            ]
          },
          "metadata": {},
          "execution_count": 47
        }
      ]
    },
    {
      "cell_type": "code",
      "metadata": {
        "colab": {
          "base_uri": "https://localhost:8080/"
        },
        "id": "PjaYCEs9AotH",
        "outputId": "5607fcd9-a4ef-43c6-e787-dcc55dd4f398"
      },
      "source": [
        "#計算平均值\n",
        "sum_of_AvgByMin = df.Avg_by_min.sum()\n",
        "print(f\"數據分析相關工作的平均月薪為: {round(sum_of_AvgByMin/len(df[df.Avg_by_min != 0]),0)}元\")"
      ],
      "execution_count": 30,
      "outputs": [
        {
          "output_type": "stream",
          "name": "stdout",
          "text": [
            "數據分析相關工作的平均月薪為: 33145.0元\n"
          ]
        }
      ]
    },
    {
      "cell_type": "code",
      "metadata": {
        "id": "ylPTQ9iSEKMX"
      },
      "source": [
        "def avg_by_avg(x):\n",
        "  #除了薪資面議的資料\n",
        "  if x != 0:\n",
        "    #只有一個值(以上)\n",
        "    if len(x) == 1:\n",
        "      return int(x[0].replace(\",\",\"\"))\n",
        "    #有兩個值(區間)，取平均值  \n",
        "    elif len(x) == 2:\n",
        "      return (int(x[0].replace(\",\",\"\"))+int(x[1].replace(\",\",\"\")))/2\n",
        "  else:\n",
        "    return 0"
      ],
      "execution_count": 31,
      "outputs": []
    },
    {
      "cell_type": "code",
      "metadata": {
        "id": "or-oAzJ5i67g"
      },
      "source": [
        "df[\"Avg_by_avg\"] = df.Salary_extracted.apply(avg_by_avg)"
      ],
      "execution_count": 32,
      "outputs": []
    },
    {
      "cell_type": "code",
      "metadata": {
        "colab": {
          "base_uri": "https://localhost:8080/"
        },
        "id": "IJYNDa5vi9a_",
        "outputId": "cbe82f1e-86ab-40f0-d4ef-c1beb3622c15"
      },
      "source": [
        "#有取到值的資料筆數(確定抓到的值都來自月薪)\n",
        "len(df[df.Avg_by_avg != 0])"
      ],
      "execution_count": 33,
      "outputs": [
        {
          "output_type": "execute_result",
          "data": {
            "text/plain": [
              "1051"
            ]
          },
          "metadata": {},
          "execution_count": 33
        }
      ]
    },
    {
      "cell_type": "code",
      "metadata": {
        "colab": {
          "base_uri": "https://localhost:8080/"
        },
        "id": "LLpIBvh2jsDA",
        "outputId": "ba561462-ea8b-42d0-9f65-2403f2244d88"
      },
      "source": [
        "#計算平均值\n",
        "sum_of_AvgByAvg = df.Avg_by_avg.sum()\n",
        "print(f\"數據分析相關工作的平均月薪為: {round(sum_of_AvgByAvg/len(df[df.Avg_by_avg != 0]),0)}元\")"
      ],
      "execution_count": 34,
      "outputs": [
        {
          "output_type": "stream",
          "name": "stdout",
          "text": [
            "數據分析相關工作的平均月薪為: 38046.0元\n"
          ]
        }
      ]
    },
    {
      "cell_type": "markdown",
      "metadata": {
        "id": "Vk9w5yTHptVz"
      },
      "source": [
        "擅長技能"
      ]
    },
    {
      "cell_type": "code",
      "metadata": {
        "colab": {
          "base_uri": "https://localhost:8080/",
          "height": 204
        },
        "id": "fSn0QWO4prcQ",
        "outputId": "d55138a7-7536-4cc0-e2c3-fb40f449e0ef"
      },
      "source": [
        "df_SkillLists = df.copy()\n",
        "df_SkillLists.head()"
      ],
      "execution_count": 35,
      "outputs": [
        {
          "output_type": "execute_result",
          "data": {
            "text/html": [
              "<div>\n",
              "<style scoped>\n",
              "    .dataframe tbody tr th:only-of-type {\n",
              "        vertical-align: middle;\n",
              "    }\n",
              "\n",
              "    .dataframe tbody tr th {\n",
              "        vertical-align: top;\n",
              "    }\n",
              "\n",
              "    .dataframe thead th {\n",
              "        text-align: right;\n",
              "    }\n",
              "</style>\n",
              "<table border=\"1\" class=\"dataframe\">\n",
              "  <thead>\n",
              "    <tr style=\"text-align: right;\">\n",
              "      <th></th>\n",
              "      <th>Salary</th>\n",
              "      <th>Skills_list</th>\n",
              "      <th>Salary_extracted</th>\n",
              "      <th>Avg_by_min</th>\n",
              "      <th>Avg_by_avg</th>\n",
              "    </tr>\n",
              "  </thead>\n",
              "  <tbody>\n",
              "    <tr>\n",
              "      <th>0</th>\n",
              "      <td>月薪64,000~78,000元</td>\n",
              "      <td>[]</td>\n",
              "      <td>[64,000, 78,000]</td>\n",
              "      <td>64000</td>\n",
              "      <td>71000.0</td>\n",
              "    </tr>\n",
              "    <tr>\n",
              "      <th>1</th>\n",
              "      <td>待遇面議</td>\n",
              "      <td>[工具-Python, 工具-R, 工具-MS SQL, 工具-Excel, 工具-Powe...</td>\n",
              "      <td>0</td>\n",
              "      <td>0</td>\n",
              "      <td>0.0</td>\n",
              "    </tr>\n",
              "    <tr>\n",
              "      <th>2</th>\n",
              "      <td>月薪40,000~60,000元</td>\n",
              "      <td>[工具-Tableau, 工具-Google Analytics, 工具-Power BI,...</td>\n",
              "      <td>[40,000, 60,000]</td>\n",
              "      <td>40000</td>\n",
              "      <td>50000.0</td>\n",
              "    </tr>\n",
              "    <tr>\n",
              "      <th>3</th>\n",
              "      <td>待遇面議</td>\n",
              "      <td>[工具-Python, 工具-R, 工具-MS SQL, 工具-MySQL, 工具-PLSQ...</td>\n",
              "      <td>0</td>\n",
              "      <td>0</td>\n",
              "      <td>0.0</td>\n",
              "    </tr>\n",
              "    <tr>\n",
              "      <th>4</th>\n",
              "      <td>待遇面議</td>\n",
              "      <td>[工具-Python, 工具-R, 工具-MySQL, 工具-Excel, 工具-Googl...</td>\n",
              "      <td>0</td>\n",
              "      <td>0</td>\n",
              "      <td>0.0</td>\n",
              "    </tr>\n",
              "  </tbody>\n",
              "</table>\n",
              "</div>"
            ],
            "text/plain": [
              "             Salary  ... Avg_by_avg\n",
              "0  月薪64,000~78,000元  ...    71000.0\n",
              "1              待遇面議  ...        0.0\n",
              "2  月薪40,000~60,000元  ...    50000.0\n",
              "3              待遇面議  ...        0.0\n",
              "4              待遇面議  ...        0.0\n",
              "\n",
              "[5 rows x 5 columns]"
            ]
          },
          "metadata": {},
          "execution_count": 35
        }
      ]
    },
    {
      "cell_type": "code",
      "metadata": {
        "colab": {
          "base_uri": "https://localhost:8080/"
        },
        "id": "2yNMVAjpwdRQ",
        "outputId": "5b26fdaa-8eee-4b6c-cc25-a506b435cfeb"
      },
      "source": [
        "# 確定項目數量\n",
        "df_SkillLists.Skills_list.apply(lambda x: len(x)).sum()"
      ],
      "execution_count": 36,
      "outputs": [
        {
          "output_type": "execute_result",
          "data": {
            "text/plain": [
              "23280"
            ]
          },
          "metadata": {},
          "execution_count": 36
        }
      ]
    },
    {
      "cell_type": "code",
      "metadata": {
        "id": "7Tm9kNX1tlbw"
      },
      "source": [
        "# list裡的每一個項目都獨立成一個row，後續以.value.value_counts()計算各技能的數量\n",
        "df_SkillLists_expanded = df_SkillLists.Skills_list.apply(pd.Series).reset_index().melt(id_vars=\"index\").dropna()[[\"index\", \"value\"]].reset_index().copy()"
      ],
      "execution_count": 37,
      "outputs": []
    },
    {
      "cell_type": "code",
      "metadata": {
        "colab": {
          "base_uri": "https://localhost:8080/",
          "height": 376
        },
        "id": "ObfVuhsquzaq",
        "outputId": "638c15a9-ced3-4635-f1ed-609a8a1f4f34"
      },
      "source": [
        "print(f\"There are {len(df_SkillLists_expanded)} items in the skills list.\")\n",
        "df_SkillLists_expanded.head(10)"
      ],
      "execution_count": 38,
      "outputs": [
        {
          "output_type": "stream",
          "name": "stdout",
          "text": [
            "There are 23280 items in the skills list.\n"
          ]
        },
        {
          "output_type": "execute_result",
          "data": {
            "text/html": [
              "<div>\n",
              "<style scoped>\n",
              "    .dataframe tbody tr th:only-of-type {\n",
              "        vertical-align: middle;\n",
              "    }\n",
              "\n",
              "    .dataframe tbody tr th {\n",
              "        vertical-align: top;\n",
              "    }\n",
              "\n",
              "    .dataframe thead th {\n",
              "        text-align: right;\n",
              "    }\n",
              "</style>\n",
              "<table border=\"1\" class=\"dataframe\">\n",
              "  <thead>\n",
              "    <tr style=\"text-align: right;\">\n",
              "      <th></th>\n",
              "      <th>level_0</th>\n",
              "      <th>index</th>\n",
              "      <th>value</th>\n",
              "    </tr>\n",
              "  </thead>\n",
              "  <tbody>\n",
              "    <tr>\n",
              "      <th>0</th>\n",
              "      <td>1</td>\n",
              "      <td>1</td>\n",
              "      <td>工具-Python</td>\n",
              "    </tr>\n",
              "    <tr>\n",
              "      <th>1</th>\n",
              "      <td>2</td>\n",
              "      <td>2</td>\n",
              "      <td>工具-Tableau</td>\n",
              "    </tr>\n",
              "    <tr>\n",
              "      <th>2</th>\n",
              "      <td>3</td>\n",
              "      <td>3</td>\n",
              "      <td>工具-Python</td>\n",
              "    </tr>\n",
              "    <tr>\n",
              "      <th>3</th>\n",
              "      <td>4</td>\n",
              "      <td>4</td>\n",
              "      <td>工具-Python</td>\n",
              "    </tr>\n",
              "    <tr>\n",
              "      <th>4</th>\n",
              "      <td>5</td>\n",
              "      <td>5</td>\n",
              "      <td>工具-Python</td>\n",
              "    </tr>\n",
              "    <tr>\n",
              "      <th>5</th>\n",
              "      <td>6</td>\n",
              "      <td>6</td>\n",
              "      <td>工具-Access</td>\n",
              "    </tr>\n",
              "    <tr>\n",
              "      <th>6</th>\n",
              "      <td>7</td>\n",
              "      <td>7</td>\n",
              "      <td>工具-Excel</td>\n",
              "    </tr>\n",
              "    <tr>\n",
              "      <th>7</th>\n",
              "      <td>8</td>\n",
              "      <td>8</td>\n",
              "      <td>工具-C</td>\n",
              "    </tr>\n",
              "    <tr>\n",
              "      <th>8</th>\n",
              "      <td>10</td>\n",
              "      <td>10</td>\n",
              "      <td>工具-Excel</td>\n",
              "    </tr>\n",
              "    <tr>\n",
              "      <th>9</th>\n",
              "      <td>12</td>\n",
              "      <td>12</td>\n",
              "      <td>工具-Google Analytics</td>\n",
              "    </tr>\n",
              "  </tbody>\n",
              "</table>\n",
              "</div>"
            ],
            "text/plain": [
              "   level_0  index                value\n",
              "0        1      1            工具-Python\n",
              "1        2      2           工具-Tableau\n",
              "2        3      3            工具-Python\n",
              "3        4      4            工具-Python\n",
              "4        5      5            工具-Python\n",
              "5        6      6            工具-Access\n",
              "6        7      7             工具-Excel\n",
              "7        8      8                 工具-C\n",
              "8       10     10             工具-Excel\n",
              "9       12     12  工具-Google Analytics"
            ]
          },
          "metadata": {},
          "execution_count": 38
        }
      ]
    },
    {
      "cell_type": "code",
      "metadata": {
        "colab": {
          "base_uri": "https://localhost:8080/"
        },
        "id": "L16o8TPzvTYP",
        "outputId": "60413552-f46f-49da-dbf6-29e689f362e8"
      },
      "source": [
        "df_SkillLists_expanded.value.value_counts()[:20]"
      ],
      "execution_count": 39,
      "outputs": [
        {
          "output_type": "execute_result",
          "data": {
            "text/plain": [
              "技能-數據分析                949\n",
              "工具-Excel               739\n",
              "語言-英文                  609\n",
              "工具-PowerPoint          593\n",
              "工具-Word                578\n",
              "技能-操作                  292\n",
              "工具-Google Analytics    280\n",
              "工具-Python              242\n",
              "工具-Facebook            222\n",
              "技能-社群經營                215\n",
              "工具-Outlook             212\n",
              "技能-提案與簡報技巧             206\n",
              "技能-商品銷售                188\n",
              "技能-FB經營                186\n",
              "技能-營運                  169\n",
              "技能-廣告企劃案╱文案撰寫          165\n",
              "工具-Photoshop           160\n",
              "技能-行銷策略擬定              141\n",
              "技能-品牌行銷管理              119\n",
              "工具-Illustrator         117\n",
              "Name: value, dtype: int64"
            ]
          },
          "metadata": {},
          "execution_count": 39
        }
      ]
    },
    {
      "cell_type": "code",
      "metadata": {
        "id": "ac8fV9vyxQvz"
      },
      "source": [
        "def print_ranked_skills(ranked_skills, list_len):\n",
        "  for i in range(list_len):\n",
        "    print(f\"Number {i+1} requested skill is \\\"{ranked_skills.index[i]}\\\", which has been mentioned {ranked_skills[i]} times.\")"
      ],
      "execution_count": 40,
      "outputs": []
    },
    {
      "cell_type": "code",
      "metadata": {
        "colab": {
          "base_uri": "https://localhost:8080/"
        },
        "id": "2Ri_fKZ-yfhF",
        "outputId": "e155d0fc-cfa6-4cb7-b45f-f7b9dc4c241d"
      },
      "source": [
        "Ranked_skills = df_SkillLists_expanded.value.value_counts()\n",
        "print_ranked_skills(Ranked_skills, 20)"
      ],
      "execution_count": 41,
      "outputs": [
        {
          "output_type": "stream",
          "name": "stdout",
          "text": [
            "Number 1 requested skill is \"技能-數據分析\", which has been mentioned 949 times.\n",
            "Number 2 requested skill is \"工具-Excel\", which has been mentioned 739 times.\n",
            "Number 3 requested skill is \"語言-英文\", which has been mentioned 609 times.\n",
            "Number 4 requested skill is \"工具-PowerPoint\", which has been mentioned 593 times.\n",
            "Number 5 requested skill is \"工具-Word\", which has been mentioned 578 times.\n",
            "Number 6 requested skill is \"技能-操作\", which has been mentioned 292 times.\n",
            "Number 7 requested skill is \"工具-Google Analytics\", which has been mentioned 280 times.\n",
            "Number 8 requested skill is \"工具-Python\", which has been mentioned 242 times.\n",
            "Number 9 requested skill is \"工具-Facebook\", which has been mentioned 222 times.\n",
            "Number 10 requested skill is \"技能-社群經營\", which has been mentioned 215 times.\n",
            "Number 11 requested skill is \"工具-Outlook\", which has been mentioned 212 times.\n",
            "Number 12 requested skill is \"技能-提案與簡報技巧\", which has been mentioned 206 times.\n",
            "Number 13 requested skill is \"技能-商品銷售\", which has been mentioned 188 times.\n",
            "Number 14 requested skill is \"技能-FB經營\", which has been mentioned 186 times.\n",
            "Number 15 requested skill is \"技能-營運\", which has been mentioned 169 times.\n",
            "Number 16 requested skill is \"技能-廣告企劃案╱文案撰寫\", which has been mentioned 165 times.\n",
            "Number 17 requested skill is \"工具-Photoshop\", which has been mentioned 160 times.\n",
            "Number 18 requested skill is \"技能-行銷策略擬定\", which has been mentioned 141 times.\n",
            "Number 19 requested skill is \"技能-品牌行銷管理\", which has been mentioned 119 times.\n",
            "Number 20 requested skill is \"工具-Illustrator\", which has been mentioned 117 times.\n"
          ]
        }
      ]
    },
    {
      "cell_type": "code",
      "metadata": {
        "id": "xArpeL-9BjlW"
      },
      "source": [
        "#根據類別做排序\n",
        "df_split_skills = df_SkillLists_expanded.value.apply(lambda x: x.split(\"-\",1)).apply(pd.Series)"
      ],
      "execution_count": 42,
      "outputs": []
    },
    {
      "cell_type": "code",
      "metadata": {
        "colab": {
          "base_uri": "https://localhost:8080/",
          "height": 204
        },
        "id": "QUnCkclGCeiV",
        "outputId": "68db3a4e-1ab1-4557-f7df-ae8036250337"
      },
      "source": [
        "df_split_skills.columns = [\"Types\",\"Names\"]\n",
        "df_split_skills.head()"
      ],
      "execution_count": 43,
      "outputs": [
        {
          "output_type": "execute_result",
          "data": {
            "text/html": [
              "<div>\n",
              "<style scoped>\n",
              "    .dataframe tbody tr th:only-of-type {\n",
              "        vertical-align: middle;\n",
              "    }\n",
              "\n",
              "    .dataframe tbody tr th {\n",
              "        vertical-align: top;\n",
              "    }\n",
              "\n",
              "    .dataframe thead th {\n",
              "        text-align: right;\n",
              "    }\n",
              "</style>\n",
              "<table border=\"1\" class=\"dataframe\">\n",
              "  <thead>\n",
              "    <tr style=\"text-align: right;\">\n",
              "      <th></th>\n",
              "      <th>Types</th>\n",
              "      <th>Names</th>\n",
              "    </tr>\n",
              "  </thead>\n",
              "  <tbody>\n",
              "    <tr>\n",
              "      <th>0</th>\n",
              "      <td>工具</td>\n",
              "      <td>Python</td>\n",
              "    </tr>\n",
              "    <tr>\n",
              "      <th>1</th>\n",
              "      <td>工具</td>\n",
              "      <td>Tableau</td>\n",
              "    </tr>\n",
              "    <tr>\n",
              "      <th>2</th>\n",
              "      <td>工具</td>\n",
              "      <td>Python</td>\n",
              "    </tr>\n",
              "    <tr>\n",
              "      <th>3</th>\n",
              "      <td>工具</td>\n",
              "      <td>Python</td>\n",
              "    </tr>\n",
              "    <tr>\n",
              "      <th>4</th>\n",
              "      <td>工具</td>\n",
              "      <td>Python</td>\n",
              "    </tr>\n",
              "  </tbody>\n",
              "</table>\n",
              "</div>"
            ],
            "text/plain": [
              "  Types    Names\n",
              "0    工具   Python\n",
              "1    工具  Tableau\n",
              "2    工具   Python\n",
              "3    工具   Python\n",
              "4    工具   Python"
            ]
          },
          "metadata": {},
          "execution_count": 43
        }
      ]
    },
    {
      "cell_type": "code",
      "metadata": {
        "colab": {
          "base_uri": "https://localhost:8080/"
        },
        "id": "Q9Jb9AL8Cpv9",
        "outputId": "9a3e7f75-9b37-4fa9-d322-2f64eb4d3d97"
      },
      "source": [
        "Ranked_skills = df_split_skills[df_split_skills.Types == \"工具\"].Names.value_counts()\n",
        "print_ranked_skills(Ranked_skills, 10)"
      ],
      "execution_count": 44,
      "outputs": [
        {
          "output_type": "stream",
          "name": "stdout",
          "text": [
            "Number 1 requested skill is \"Excel\", which has been mentioned 739 times.\n",
            "Number 2 requested skill is \"PowerPoint\", which has been mentioned 593 times.\n",
            "Number 3 requested skill is \"Word\", which has been mentioned 578 times.\n",
            "Number 4 requested skill is \"Google Analytics\", which has been mentioned 280 times.\n",
            "Number 5 requested skill is \"Python\", which has been mentioned 242 times.\n",
            "Number 6 requested skill is \"Facebook\", which has been mentioned 222 times.\n",
            "Number 7 requested skill is \"Outlook\", which has been mentioned 212 times.\n",
            "Number 8 requested skill is \"Photoshop\", which has been mentioned 160 times.\n",
            "Number 9 requested skill is \"MS SQL\", which has been mentioned 117 times.\n",
            "Number 10 requested skill is \"Illustrator\", which has been mentioned 117 times.\n"
          ]
        }
      ]
    }
  ]
}